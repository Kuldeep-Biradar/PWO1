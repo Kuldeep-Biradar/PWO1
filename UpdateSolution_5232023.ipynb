{
 "cells": [
  {
   "attachments": {},
   "cell_type": "markdown",
   "id": "7fd34c38-c011-4dd0-aa4c-3d000cc5f986",
   "metadata": {},
   "source": [
    "# Large Model Example\n",
    "\n",
    "Large models (schedules >~ 2 weeks) create a large number of variables due to the exponential variable scaling inherit to LMAS consumption constraints.\n",
    "\n",
    "To solve large models a number of options exist:\n",
    "- Solve with no LMAS constraints\n",
    "    - Allows for model solutions, but likely will create impossible production schedules\n",
    "- Solve smaller models sequentially for full production schedule\n",
    "    - Break full schedule into ~2 week schedules and solve sequentially building off of previous solutions which are fixed in time\n",
    "- Use sequential models to reduce model `horizon`\n",
    "    - Long schedules require large horizon (maximum time provided for a model solution). Reducing the maximum horizon can greatly impact model solution time and can be informed by the sequential model approach"
   ]
  },
  {
   "cell_type": "code",
   "execution_count": 1,
   "id": "efa771e4",
   "metadata": {
    "tags": []
   },
   "outputs": [],
   "source": [
    "%load_ext autoreload\n",
    "%autoreload 2"
   ]
  },
  {
   "cell_type": "code",
   "execution_count": 2,
   "id": "6fcd7ad6-7eef-417d-9d9c-8216a8fff2a3",
   "metadata": {
    "gather": {
     "logged": 1684110679807
    },
    "tags": []
   },
   "outputs": [],
   "source": [
    "# %%\n",
    "from scheduleopt import ScheduleModel\n",
    "import matplotlib.pyplot as plt\n",
    "from pathlib import Path\n",
    "import pandas as pd\n",
    "import json\n",
    "import numpy as np\n",
    "import pandas as pd\n",
    "from tqdm import tqdm\n",
    "\n",
    "\n",
    "with open(\"input_lmas_ramp_updated\") as f:\n",
    "    inputs = json.load(f)\n",
    "# inputs[\"forecast\"] = [[\"M07A5\", 60361, 744]]\n",
    "# inputs[\"forecast\"] = inputs[\"forecast1\"]\n",
    "# print(inputs[\"forecast\"])\n",
    "# with open(\"input_test/input_sample.json\") as f:\n",
    "#     inputs = json.load(f)\n",
    "\n",
    "#model = ScheduleModel(inputs, time_scale_factor=4)"
   ]
  },
  {
   "cell_type": "code",
   "execution_count": 4,
   "id": "17234790-9c04-4614-b7e0-8b5be34b64e1",
   "metadata": {},
   "outputs": [],
   "source": [
    "inputs[\"forecast\"] =   [\n",
    "        [\"N82B1\",  50000, 744]  \n",
    "    ]"
   ]
  },
  {
   "cell_type": "code",
   "execution_count": null,
   "id": "43e988b1-6f57-4cab-856c-2eb94ed2e846",
   "metadata": {},
   "outputs": [],
   "source": [
    "#Do not RUN. Its just backup of variables \n",
    "\n",
    "[\"M07A5\",  100000, 744],\n",
    "        [\"B05Y5\",  100000, 744],\n",
    "         [\"C06F7\",  10000, 372],\n",
    "        [\"W07N6\",  10000, 372]\n",
    "        \n",
    "        [\"M07A5\",  205534, 744],\n",
    "        [\"M09C2\", 45470, 744],\n",
    "        [\"A09B4\", 96157, 744],\n",
    "        [\"J07B1\",  27246, 744],\n",
    "        [\"K05B8\",  27397, 744],\n",
    "        [\"F07G4\",  43816, 744],\n",
    "        [\"D07D2\",  39786, 744]\n",
    "        \n",
    "        \n",
    "        \n",
    "        ,\n",
    "        [\"K00Z3\", 20000, 744],\n",
    "        [\"S80V4\", 20000, 744],\n",
    "        [\"A03V8\",  20000, 744], \n",
    "119,330.03 \n",
    "76,974.01 \n",
    "52,194.58 \n",
    "51,575.17 \n"
   ]
  },
  {
   "cell_type": "code",
   "execution_count": 5,
   "id": "15e731ac-d853-46d5-99cf-33622c10c123",
   "metadata": {},
   "outputs": [],
   "source": [
    "model = ScheduleModel(inputs, time_scale_factor=4)"
   ]
  },
  {
   "cell_type": "code",
   "execution_count": 6,
   "id": "1fa78181-8a33-42cd-b296-5284216702ce",
   "metadata": {
    "gather": {
     "logged": 1684110679838
    },
    "tags": []
   },
   "outputs": [
    {
     "name": "stdout",
     "output_type": "stream",
     "text": [
      "\n",
      "Starting CP-SAT solver v9.6.2534\n",
      "Parameters: random_seed: 1 max_time_in_seconds: 1500 log_search_progress: true num_search_workers: 16\n",
      "\n",
      "Initial optimization model '': (model_fingerprint: 0xeb9f3c49e45a1334)\n",
      "#Variables: 68 (#ints:1 in objective)\n",
      "  - 9 Booleans in [0,1]\n",
      "  - 44 in [0,324]\n",
      "  - 15 constants in {8,20,26} \n",
      "#kInterval: 21 (#enforced: 21)\n",
      "#kLinMax: 2 (#expressions: 3)\n",
      "#kLinear1: 6 (#enforced: 6)\n",
      "#kLinear2: 38 (#enforced: 36)\n",
      "#kLinear3: 16 (#enforced: 15)\n",
      "#kNoOverlap: 3 (#intervals: 15, #optional: 15)\n",
      "\n",
      "Starting presolve at 0.00s\n",
      "Unsat after presolving constraint #75 (warning, dump might be inconsistent): lin_max { target { vars: 66 coeffs: 1 } }\n",
      "\n",
      "Presolve summary:\n",
      "  - 0 affine relations were detected.\n",
      "  - rule 'presolve: iteration' was applied 1 time.\n",
      "Problem closed by presolve.\n",
      "\n",
      "CpSolverResponse summary:\n",
      "status: INFEASIBLE\n",
      "objective: NA\n",
      "best_bound: NA\n",
      "integers: 0\n",
      "booleans: 0\n",
      "conflicts: 0\n",
      "branches: 0\n",
      "propagations: 0\n",
      "integer_propagations: 0\n",
      "restarts: 0\n",
      "lp_iterations: 0\n",
      "walltime: 0.00181889\n",
      "usertime: 0.00181909\n",
      "deterministic_time: 0\n",
      "gap_integral: 0\n",
      "\n"
     ]
    }
   ],
   "source": [
    "# %%\n",
    "# sol = model.solve_minimize_delivery_miss(max_time_in_seconds=None, verbose=True)\n",
    "sol = model.solve_least_time_schedule(max_time_in_seconds=1500, number_of_search_workers=None, verbose=True, enforce_consumption_constraint=False)\n",
    "# %%"
   ]
  },
  {
   "cell_type": "code",
   "execution_count": 7,
   "id": "ac3fb1b0-2128-4cdd-a561-e704e922a28d",
   "metadata": {
    "gather": {
     "logged": 1684110679856
    },
    "tags": []
   },
   "outputs": [
    {
     "ename": "AttributeError",
     "evalue": "'ScheduleSolution' object has no attribute '_job_schedule'",
     "output_type": "error",
     "traceback": [
      "\u001b[0;31m---------------------------------------------------------------------------\u001b[0m",
      "\u001b[0;31mAttributeError\u001b[0m                            Traceback (most recent call last)",
      "Cell \u001b[0;32mIn[7], line 1\u001b[0m\n\u001b[0;32m----> 1\u001b[0m mask \u001b[38;5;241m=\u001b[39m \u001b[43msol\u001b[49m\u001b[38;5;241;43m.\u001b[39;49m\u001b[43m_job_schedule\u001b[49m[\u001b[38;5;124m\"\u001b[39m\u001b[38;5;124mMIN\u001b[39m\u001b[38;5;124m\"\u001b[39m] \u001b[38;5;241m==\u001b[39m \u001b[38;5;124m\"\u001b[39m\u001b[38;5;124mLMAS\u001b[39m\u001b[38;5;124m\"\u001b[39m\n\u001b[1;32m      2\u001b[0m sol\u001b[38;5;241m.\u001b[39m_job_schedule \u001b[38;5;241m=\u001b[39m sol\u001b[38;5;241m.\u001b[39m_job_schedule\u001b[38;5;241m.\u001b[39mloc[\u001b[38;5;241m~\u001b[39mmask]\n\u001b[1;32m      3\u001b[0m jobs_chart \u001b[38;5;241m=\u001b[39m sol\u001b[38;5;241m.\u001b[39mvisualize_jobs()\n",
      "\u001b[0;31mAttributeError\u001b[0m: 'ScheduleSolution' object has no attribute '_job_schedule'"
     ]
    }
   ],
   "source": [
    "mask = sol._job_schedule[\"MIN\"] == \"LMAS\"\n",
    "sol._job_schedule = sol._job_schedule.loc[~mask]\n",
    "jobs_chart = sol.visualize_jobs()\n",
    "machines_chart = sol.visualize_machines()\n",
    "jobs_chart"
   ]
  },
  {
   "cell_type": "code",
   "execution_count": 7,
   "id": "cd400b0d-2218-4702-9642-aa4486a3f016",
   "metadata": {
    "gather": {
     "logged": 1684110679876
    },
    "tags": []
   },
   "outputs": [
    {
     "data": {
      "text/html": [
       "\n",
       "<style>\n",
       "  #altair-viz-df97d2f01bc741c6bb808d0f453fdadb.vega-embed {\n",
       "    width: 100%;\n",
       "    display: flex;\n",
       "  }\n",
       "\n",
       "  #altair-viz-df97d2f01bc741c6bb808d0f453fdadb.vega-embed details,\n",
       "  #altair-viz-df97d2f01bc741c6bb808d0f453fdadb.vega-embed details summary {\n",
       "    position: relative;\n",
       "  }\n",
       "</style>\n",
       "<div id=\"altair-viz-df97d2f01bc741c6bb808d0f453fdadb\"></div>\n",
       "<script type=\"text/javascript\">\n",
       "  var VEGA_DEBUG = (typeof VEGA_DEBUG == \"undefined\") ? {} : VEGA_DEBUG;\n",
       "  (function(spec, embedOpt){\n",
       "    let outputDiv = document.currentScript.previousElementSibling;\n",
       "    if (outputDiv.id !== \"altair-viz-df97d2f01bc741c6bb808d0f453fdadb\") {\n",
       "      outputDiv = document.getElementById(\"altair-viz-df97d2f01bc741c6bb808d0f453fdadb\");\n",
       "    }\n",
       "    const paths = {\n",
       "      \"vega\": \"https://cdn.jsdelivr.net/npm/vega@5?noext\",\n",
       "      \"vega-lib\": \"https://cdn.jsdelivr.net/npm/vega-lib?noext\",\n",
       "      \"vega-lite\": \"https://cdn.jsdelivr.net/npm/vega-lite@5.8.0?noext\",\n",
       "      \"vega-embed\": \"https://cdn.jsdelivr.net/npm/vega-embed@6?noext\",\n",
       "    };\n",
       "\n",
       "    function maybeLoadScript(lib, version) {\n",
       "      var key = `${lib.replace(\"-\", \"\")}_version`;\n",
       "      return (VEGA_DEBUG[key] == version) ?\n",
       "        Promise.resolve(paths[lib]) :\n",
       "        new Promise(function(resolve, reject) {\n",
       "          var s = document.createElement('script');\n",
       "          document.getElementsByTagName(\"head\")[0].appendChild(s);\n",
       "          s.async = true;\n",
       "          s.onload = () => {\n",
       "            VEGA_DEBUG[key] = version;\n",
       "            return resolve(paths[lib]);\n",
       "          };\n",
       "          s.onerror = () => reject(`Error loading script: ${paths[lib]}`);\n",
       "          s.src = paths[lib];\n",
       "        });\n",
       "    }\n",
       "\n",
       "    function showError(err) {\n",
       "      outputDiv.innerHTML = `<div class=\"error\" style=\"color:red;\">${err}</div>`;\n",
       "      throw err;\n",
       "    }\n",
       "\n",
       "    function displayChart(vegaEmbed) {\n",
       "      vegaEmbed(outputDiv, spec, embedOpt)\n",
       "        .catch(err => showError(`Javascript Error: ${err.message}<br>This usually means there's a typo in your chart specification. See the javascript console for the full traceback.`));\n",
       "    }\n",
       "\n",
       "    if(typeof define === \"function\" && define.amd) {\n",
       "      requirejs.config({paths});\n",
       "      require([\"vega-embed\"], displayChart, err => showError(`Error loading script: ${err.message}`));\n",
       "    } else {\n",
       "      maybeLoadScript(\"vega\", \"5\")\n",
       "        .then(() => maybeLoadScript(\"vega-lite\", \"5.8.0\"))\n",
       "        .then(() => maybeLoadScript(\"vega-embed\", \"6\"))\n",
       "        .catch(showError)\n",
       "        .then(() => displayChart(vegaEmbed));\n",
       "    }\n",
       "  })({\"config\": {\"view\": {\"continuousWidth\": 300, \"continuousHeight\": 300}}, \"data\": {\"name\": \"data-9d66a003717ef6b8bf448c7375b764e4\"}, \"mark\": {\"type\": \"bar\"}, \"encoding\": {\"color\": {\"field\": \"Operation\", \"scale\": {\"scheme\": \"dark2\"}, \"type\": \"nominal\"}, \"x\": {\"field\": \"Start\", \"type\": \"temporal\"}, \"x2\": {\"field\": \"End\"}, \"y\": {\"field\": \"Machine\", \"type\": \"nominal\"}}, \"height\": 300, \"width\": 800, \"$schema\": \"https://vega.github.io/schema/vega-lite/v5.8.0.json\", \"datasets\": {\"data-9d66a003717ef6b8bf448c7375b764e4\": [{\"Machine\": \"Reactor-358\", \"MIN\": \"J07B1\", \"JobId\": 82, \"TaskId\": 0, \"Start\": \"2023-05-01T00:00:00\", \"End\": \"2023-05-01T01:30:00\", \"Activity\": \"J07B1 - Reactor-358\", \"Operation\": \"J07B1 - Reactor-358\", \"MachineId\": 0, \"ConsumptionRate\": 0.0, \"Expired\": 0}, {\"Machine\": \"Reactor-358\", \"MIN\": \"J07B1\", \"JobId\": 82, \"TaskId\": 1, \"Start\": \"2023-05-01T01:30:00\", \"End\": \"2023-05-01T02:00:00\", \"Activity\": \"J07B1 - Reactor-358\", \"Operation\": \"J07B1 - Reactor-358\", \"MachineId\": 0, \"ConsumptionRate\": 0.26666666666666666, \"Expired\": 0}, {\"Machine\": \"Reactor-358\", \"MIN\": \"J07B1\", \"JobId\": 82, \"TaskId\": 2, \"Start\": \"2023-05-01T02:00:00\", \"End\": \"2023-05-01T06:00:00\", \"Activity\": \"J07B1 - Reactor-358\", \"Operation\": \"J07B1 - Reactor-358\", \"MachineId\": 0, \"ConsumptionRate\": 0.8, \"Expired\": 0}, {\"Machine\": \"Reactor-358\", \"MIN\": \"J07B1\", \"JobId\": 82, \"TaskId\": 3, \"Start\": \"2023-05-01T06:00:00\", \"End\": \"2023-05-01T07:30:00\", \"Activity\": \"J07B1 - Reactor-358\", \"Operation\": \"J07B1 - Reactor-358\", \"MachineId\": 0, \"ConsumptionRate\": 0.0, \"Expired\": 0}, {\"Machine\": \"Reactor-358\", \"MIN\": \"J07B1\", \"JobId\": 82, \"TaskId\": \"DI Rinse - Long\", \"Start\": \"2023-05-01T07:30:00\", \"End\": \"2023-05-01T08:30:00\", \"Activity\": \"J07B1 - Reactor-358\", \"Operation\": \"J07B1-D07D2-DI Rinse - Long\", \"MachineId\": 0, \"ConsumptionRate\": 0.0, \"Expired\": 0}, {\"Machine\": \"Reactor-358\", \"MIN\": \"J07B1\", \"JobId\": 82, \"TaskId\": 5, \"Start\": \"2023-05-01T16:30:00\", \"End\": \"2023-05-01T18:00:00\", \"Activity\": \"J07B1 - Reactor-358\", \"Operation\": \"J07B1 - Reactor-358\", \"MachineId\": 0, \"ConsumptionRate\": 0.0, \"Expired\": 0}, {\"Machine\": \"Reactor-358\", \"MIN\": \"J07B1\", \"JobId\": 82, \"TaskId\": 6, \"Start\": \"2023-05-01T18:00:00\", \"End\": \"2023-05-01T18:30:00\", \"Activity\": \"J07B1 - Reactor-358\", \"Operation\": \"J07B1 - Reactor-358\", \"MachineId\": 0, \"ConsumptionRate\": 0.26666666666666666, \"Expired\": 0}, {\"Machine\": \"Reactor-358\", \"MIN\": \"J07B1\", \"JobId\": 82, \"TaskId\": 7, \"Start\": \"2023-05-01T18:30:00\", \"End\": \"2023-05-01T22:30:00\", \"Activity\": \"J07B1 - Reactor-358\", \"Operation\": \"J07B1 - Reactor-358\", \"MachineId\": 0, \"ConsumptionRate\": 0.8, \"Expired\": 0}, {\"Machine\": \"Reactor-358\", \"MIN\": \"J07B1\", \"JobId\": 82, \"TaskId\": 8, \"Start\": \"2023-05-01T22:30:00\", \"End\": \"2023-05-02T00:00:00\", \"Activity\": \"J07B1 - Reactor-358\", \"Operation\": \"J07B1 - Reactor-358\", \"MachineId\": 0, \"ConsumptionRate\": 0.0, \"Expired\": 0}, {\"Machine\": \"Reactor-358\", \"MIN\": \"J07B1\", \"JobId\": 82, \"TaskId\": \"DI Rinse\", \"Start\": \"2023-05-02T00:00:00\", \"End\": \"2023-05-02T00:30:00\", \"Activity\": \"J07B1 - Reactor-358\", \"Operation\": \"J07B1-M09C2-DI Rinse\", \"MachineId\": 0, \"ConsumptionRate\": 0.0, \"Expired\": 0}, {\"Machine\": \"Reactor-358\", \"MIN\": \"J07B1\", \"JobId\": 82, \"TaskId\": 10, \"Start\": \"2023-05-02T09:00:00\", \"End\": \"2023-05-02T10:30:00\", \"Activity\": \"J07B1 - Reactor-358\", \"Operation\": \"J07B1 - Reactor-358\", \"MachineId\": 0, \"ConsumptionRate\": 0.0, \"Expired\": 0}, {\"Machine\": \"Reactor-358\", \"MIN\": \"J07B1\", \"JobId\": 82, \"TaskId\": 11, \"Start\": \"2023-05-02T10:30:00\", \"End\": \"2023-05-02T11:00:00\", \"Activity\": \"J07B1 - Reactor-358\", \"Operation\": \"J07B1 - Reactor-358\", \"MachineId\": 0, \"ConsumptionRate\": 0.26666666666666666, \"Expired\": 0}, {\"Machine\": \"Reactor-358\", \"MIN\": \"J07B1\", \"JobId\": 82, \"TaskId\": 12, \"Start\": \"2023-05-02T11:00:00\", \"End\": \"2023-05-02T15:00:00\", \"Activity\": \"J07B1 - Reactor-358\", \"Operation\": \"J07B1 - Reactor-358\", \"MachineId\": 0, \"ConsumptionRate\": 0.8, \"Expired\": 0}, {\"Machine\": \"Reactor-358\", \"MIN\": \"J07B1\", \"JobId\": 82, \"TaskId\": 13, \"Start\": \"2023-05-02T15:00:00\", \"End\": \"2023-05-02T16:30:00\", \"Activity\": \"J07B1 - Reactor-358\", \"Operation\": \"J07B1 - Reactor-358\", \"MachineId\": 0, \"ConsumptionRate\": 0.0, \"Expired\": 0}, {\"Machine\": \"Reactor-358\", \"MIN\": \"J07B1\", \"JobId\": 82, \"TaskId\": \"DI Rinse\", \"Start\": \"2023-05-02T16:30:00\", \"End\": \"2023-05-02T17:00:00\", \"Activity\": \"J07B1 - Reactor-358\", \"Operation\": \"J07B1-J07B1-DI Rinse\", \"MachineId\": 0, \"ConsumptionRate\": 0.0, \"Expired\": 0}, {\"Machine\": \"Reactor-358\", \"MIN\": \"A09B4\", \"JobId\": 0, \"TaskId\": 0, \"Start\": \"2023-05-02T17:00:00\", \"End\": \"2023-05-02T19:00:00\", \"Activity\": \"A09B4 - Reactor-358\", \"Operation\": \"A09B4 - Reactor-358\", \"MachineId\": 0, \"ConsumptionRate\": 0.0, \"Expired\": 0}, {\"Machine\": \"Reactor-358\", \"MIN\": \"A09B4\", \"JobId\": 0, \"TaskId\": 1, \"Start\": \"2023-05-02T19:00:00\", \"End\": \"2023-05-02T19:30:00\", \"Activity\": \"A09B4 - Reactor-358\", \"Operation\": \"A09B4 - Reactor-358\", \"MachineId\": 0, \"ConsumptionRate\": 0.4, \"Expired\": 0}, {\"Machine\": \"Reactor-358\", \"MIN\": \"A09B4\", \"JobId\": 0, \"TaskId\": 2, \"Start\": \"2023-05-02T19:30:00\", \"End\": \"2023-05-02T23:30:00\", \"Activity\": \"A09B4 - Reactor-358\", \"Operation\": \"A09B4 - Reactor-358\", \"MachineId\": 0, \"ConsumptionRate\": 0.8, \"Expired\": 0}, {\"Machine\": \"Reactor-358\", \"MIN\": \"A09B4\", \"JobId\": 0, \"TaskId\": 3, \"Start\": \"2023-05-02T23:30:00\", \"End\": \"2023-05-03T01:30:00\", \"Activity\": \"A09B4 - Reactor-358\", \"Operation\": \"A09B4 - Reactor-358\", \"MachineId\": 0, \"ConsumptionRate\": 0.0, \"Expired\": 0}, {\"Machine\": \"Reactor-358\", \"MIN\": \"A09B4\", \"JobId\": 0, \"TaskId\": \"DI Rinse\", \"Start\": \"2023-05-03T01:30:00\", \"End\": \"2023-05-03T02:00:00\", \"Activity\": \"A09B4 - Reactor-358\", \"Operation\": \"A09B4-A09B4-DI Rinse\", \"MachineId\": 0, \"ConsumptionRate\": 0.0, \"Expired\": 0}, {\"Machine\": \"Reactor-358\", \"MIN\": \"A09B4\", \"JobId\": 0, \"TaskId\": 5, \"Start\": \"2023-05-03T09:30:00\", \"End\": \"2023-05-03T11:30:00\", \"Activity\": \"A09B4 - Reactor-358\", \"Operation\": \"A09B4 - Reactor-358\", \"MachineId\": 0, \"ConsumptionRate\": 0.0, \"Expired\": 0}, {\"Machine\": \"Reactor-358\", \"MIN\": \"A09B4\", \"JobId\": 0, \"TaskId\": 6, \"Start\": \"2023-05-03T11:30:00\", \"End\": \"2023-05-03T12:00:00\", \"Activity\": \"A09B4 - Reactor-358\", \"Operation\": \"A09B4 - Reactor-358\", \"MachineId\": 0, \"ConsumptionRate\": 0.4, \"Expired\": 0}, {\"Machine\": \"Reactor-358\", \"MIN\": \"A09B4\", \"JobId\": 0, \"TaskId\": 7, \"Start\": \"2023-05-03T12:00:00\", \"End\": \"2023-05-03T16:00:00\", \"Activity\": \"A09B4 - Reactor-358\", \"Operation\": \"A09B4 - Reactor-358\", \"MachineId\": 0, \"ConsumptionRate\": 0.8, \"Expired\": 0}, {\"Machine\": \"Reactor-358\", \"MIN\": \"A09B4\", \"JobId\": 0, \"TaskId\": 8, \"Start\": \"2023-05-03T16:00:00\", \"End\": \"2023-05-03T18:00:00\", \"Activity\": \"A09B4 - Reactor-358\", \"Operation\": \"A09B4 - Reactor-358\", \"MachineId\": 0, \"ConsumptionRate\": 0.0, \"Expired\": 0}, {\"Machine\": \"Reactor-358\", \"MIN\": \"A09B4\", \"JobId\": 0, \"TaskId\": \"DI Rinse\", \"Start\": \"2023-05-03T18:00:00\", \"End\": \"2023-05-03T18:30:00\", \"Activity\": \"A09B4 - Reactor-358\", \"Operation\": \"A09B4-A09B4-DI Rinse\", \"MachineId\": 0, \"ConsumptionRate\": 0.0, \"Expired\": 0}, {\"Machine\": \"Reactor-358\", \"MIN\": \"J07B1\", \"JobId\": 92, \"TaskId\": 0, \"Start\": \"2023-05-03T18:30:00\", \"End\": \"2023-05-03T20:00:00\", \"Activity\": \"J07B1 - Reactor-358\", \"Operation\": \"J07B1 - Reactor-358\", \"MachineId\": 0, \"ConsumptionRate\": 0.0, \"Expired\": 0}, {\"Machine\": \"Reactor-358\", \"MIN\": \"J07B1\", \"JobId\": 92, \"TaskId\": 1, \"Start\": \"2023-05-03T20:00:00\", \"End\": \"2023-05-03T20:30:00\", \"Activity\": \"J07B1 - Reactor-358\", \"Operation\": \"J07B1 - Reactor-358\", \"MachineId\": 0, \"ConsumptionRate\": 0.26666666666666666, \"Expired\": 0}, {\"Machine\": \"Reactor-358\", \"MIN\": \"J07B1\", \"JobId\": 92, \"TaskId\": 2, \"Start\": \"2023-05-03T20:30:00\", \"End\": \"2023-05-04T00:30:00\", \"Activity\": \"J07B1 - Reactor-358\", \"Operation\": \"J07B1 - Reactor-358\", \"MachineId\": 0, \"ConsumptionRate\": 0.8, \"Expired\": 0}, {\"Machine\": \"Reactor-358\", \"MIN\": \"J07B1\", \"JobId\": 92, \"TaskId\": 3, \"Start\": \"2023-05-04T00:30:00\", \"End\": \"2023-05-04T02:00:00\", \"Activity\": \"J07B1 - Reactor-358\", \"Operation\": \"J07B1 - Reactor-358\", \"MachineId\": 0, \"ConsumptionRate\": 0.0, \"Expired\": 0}, {\"Machine\": \"Reactor-358\", \"MIN\": \"J07B1\", \"JobId\": 92, \"TaskId\": \"DI Rinse\", \"Start\": \"2023-05-04T02:00:00\", \"End\": \"2023-05-04T02:30:00\", \"Activity\": \"J07B1 - Reactor-358\", \"Operation\": \"J07B1-J07B1-DI Rinse\", \"MachineId\": 0, \"ConsumptionRate\": 0.0, \"Expired\": 0}, {\"Machine\": \"Reactor-358\", \"MIN\": \"J07B1\", \"JobId\": 92, \"TaskId\": 5, \"Start\": \"2023-05-04T11:00:00\", \"End\": \"2023-05-04T12:30:00\", \"Activity\": \"J07B1 - Reactor-358\", \"Operation\": \"J07B1 - Reactor-358\", \"MachineId\": 0, \"ConsumptionRate\": 0.0, \"Expired\": 0}, {\"Machine\": \"Reactor-358\", \"MIN\": \"J07B1\", \"JobId\": 92, \"TaskId\": 6, \"Start\": \"2023-05-04T12:30:00\", \"End\": \"2023-05-04T13:00:00\", \"Activity\": \"J07B1 - Reactor-358\", \"Operation\": \"J07B1 - Reactor-358\", \"MachineId\": 0, \"ConsumptionRate\": 0.26666666666666666, \"Expired\": 0}, {\"Machine\": \"Reactor-358\", \"MIN\": \"J07B1\", \"JobId\": 92, \"TaskId\": 7, \"Start\": \"2023-05-04T13:00:00\", \"End\": \"2023-05-04T17:00:00\", \"Activity\": \"J07B1 - Reactor-358\", \"Operation\": \"J07B1 - Reactor-358\", \"MachineId\": 0, \"ConsumptionRate\": 0.8, \"Expired\": 0}, {\"Machine\": \"Reactor-358\", \"MIN\": \"J07B1\", \"JobId\": 92, \"TaskId\": 8, \"Start\": \"2023-05-04T17:00:00\", \"End\": \"2023-05-04T18:30:00\", \"Activity\": \"J07B1 - Reactor-358\", \"Operation\": \"J07B1 - Reactor-358\", \"MachineId\": 0, \"ConsumptionRate\": 0.0, \"Expired\": 0}, {\"Machine\": \"Reactor-358\", \"MIN\": \"J07B1\", \"JobId\": 92, \"TaskId\": \"DI Rinse\", \"Start\": \"2023-05-04T18:30:00\", \"End\": \"2023-05-04T19:00:00\", \"Activity\": \"J07B1 - Reactor-358\", \"Operation\": \"J07B1-J07B1-DI Rinse\", \"MachineId\": 0, \"ConsumptionRate\": 0.0, \"Expired\": 0}, {\"Machine\": \"Reactor-358\", \"MIN\": \"J07B1\", \"JobId\": 92, \"TaskId\": 10, \"Start\": \"2023-05-05T03:30:00\", \"End\": \"2023-05-05T05:00:00\", \"Activity\": \"J07B1 - Reactor-358\", \"Operation\": \"J07B1 - Reactor-358\", \"MachineId\": 0, \"ConsumptionRate\": 0.0, \"Expired\": 0}, {\"Machine\": \"Reactor-358\", \"MIN\": \"J07B1\", \"JobId\": 92, \"TaskId\": 11, \"Start\": \"2023-05-05T05:00:00\", \"End\": \"2023-05-05T05:30:00\", \"Activity\": \"J07B1 - Reactor-358\", \"Operation\": \"J07B1 - Reactor-358\", \"MachineId\": 0, \"ConsumptionRate\": 0.26666666666666666, \"Expired\": 0}, {\"Machine\": \"Reactor-358\", \"MIN\": \"J07B1\", \"JobId\": 92, \"TaskId\": 12, \"Start\": \"2023-05-05T05:30:00\", \"End\": \"2023-05-05T09:30:00\", \"Activity\": \"J07B1 - Reactor-358\", \"Operation\": \"J07B1 - Reactor-358\", \"MachineId\": 0, \"ConsumptionRate\": 0.8, \"Expired\": 0}, {\"Machine\": \"Reactor-358\", \"MIN\": \"J07B1\", \"JobId\": 92, \"TaskId\": 13, \"Start\": \"2023-05-05T09:30:00\", \"End\": \"2023-05-05T11:00:00\", \"Activity\": \"J07B1 - Reactor-358\", \"Operation\": \"J07B1 - Reactor-358\", \"MachineId\": 0, \"ConsumptionRate\": 0.0, \"Expired\": 0}, {\"Machine\": \"Reactor-358\", \"MIN\": \"J07B1\", \"JobId\": 92, \"TaskId\": \"DI Rinse\", \"Start\": \"2023-05-05T11:00:00\", \"End\": \"2023-05-05T11:30:00\", \"Activity\": \"J07B1 - Reactor-358\", \"Operation\": \"J07B1-J07B1-DI Rinse\", \"MachineId\": 0, \"ConsumptionRate\": 0.0, \"Expired\": 0}, {\"Machine\": \"Reactor-358\", \"MIN\": \"A09B4\", \"JobId\": 7, \"TaskId\": 0, \"Start\": \"2023-05-05T11:30:00\", \"End\": \"2023-05-05T13:30:00\", \"Activity\": \"A09B4 - Reactor-358\", \"Operation\": \"A09B4 - Reactor-358\", \"MachineId\": 0, \"ConsumptionRate\": 0.0, \"Expired\": 0}, {\"Machine\": \"Reactor-358\", \"MIN\": \"A09B4\", \"JobId\": 7, \"TaskId\": 1, \"Start\": \"2023-05-05T13:30:00\", \"End\": \"2023-05-05T14:00:00\", \"Activity\": \"A09B4 - Reactor-358\", \"Operation\": \"A09B4 - Reactor-358\", \"MachineId\": 0, \"ConsumptionRate\": 0.4, \"Expired\": 0}, {\"Machine\": \"Reactor-358\", \"MIN\": \"A09B4\", \"JobId\": 7, \"TaskId\": 2, \"Start\": \"2023-05-05T14:00:00\", \"End\": \"2023-05-05T18:00:00\", \"Activity\": \"A09B4 - Reactor-358\", \"Operation\": \"A09B4 - Reactor-358\", \"MachineId\": 0, \"ConsumptionRate\": 0.8, \"Expired\": 0}, {\"Machine\": \"Reactor-358\", \"MIN\": \"A09B4\", \"JobId\": 7, \"TaskId\": 3, \"Start\": \"2023-05-05T18:00:00\", \"End\": \"2023-05-05T20:00:00\", \"Activity\": \"A09B4 - Reactor-358\", \"Operation\": \"A09B4 - Reactor-358\", \"MachineId\": 0, \"ConsumptionRate\": 0.0, \"Expired\": 0}, {\"Machine\": \"Reactor-358\", \"MIN\": \"A09B4\", \"JobId\": 7, \"TaskId\": \"DI Rinse\", \"Start\": \"2023-05-05T20:00:00\", \"End\": \"2023-05-05T20:30:00\", \"Activity\": \"A09B4 - Reactor-358\", \"Operation\": \"A09B4-A09B4-DI Rinse\", \"MachineId\": 0, \"ConsumptionRate\": 0.0, \"Expired\": 0}, {\"Machine\": \"Reactor-358\", \"MIN\": \"A09B4\", \"JobId\": 7, \"TaskId\": 5, \"Start\": \"2023-05-06T04:00:00\", \"End\": \"2023-05-06T06:00:00\", \"Activity\": \"A09B4 - Reactor-358\", \"Operation\": \"A09B4 - Reactor-358\", \"MachineId\": 0, \"ConsumptionRate\": 0.0, \"Expired\": 0}, {\"Machine\": \"Reactor-358\", \"MIN\": \"A09B4\", \"JobId\": 7, \"TaskId\": 6, \"Start\": \"2023-05-06T06:00:00\", \"End\": \"2023-05-06T06:30:00\", \"Activity\": \"A09B4 - Reactor-358\", \"Operation\": \"A09B4 - Reactor-358\", \"MachineId\": 0, \"ConsumptionRate\": 0.4, \"Expired\": 0}, {\"Machine\": \"Reactor-358\", \"MIN\": \"A09B4\", \"JobId\": 7, \"TaskId\": 7, \"Start\": \"2023-05-06T06:30:00\", \"End\": \"2023-05-06T10:30:00\", \"Activity\": \"A09B4 - Reactor-358\", \"Operation\": \"A09B4 - Reactor-358\", \"MachineId\": 0, \"ConsumptionRate\": 0.8, \"Expired\": 0}, {\"Machine\": \"Reactor-358\", \"MIN\": \"A09B4\", \"JobId\": 7, \"TaskId\": 8, \"Start\": \"2023-05-06T10:30:00\", \"End\": \"2023-05-06T12:30:00\", \"Activity\": \"A09B4 - Reactor-358\", \"Operation\": \"A09B4 - Reactor-358\", \"MachineId\": 0, \"ConsumptionRate\": 0.0, \"Expired\": 0}, {\"Machine\": \"Reactor-358\", \"MIN\": \"A09B4\", \"JobId\": 7, \"TaskId\": \"DI Rinse\", \"Start\": \"2023-05-06T12:30:00\", \"End\": \"2023-05-06T13:00:00\", \"Activity\": \"A09B4 - Reactor-358\", \"Operation\": \"A09B4-A09B4-DI Rinse\", \"MachineId\": 0, \"ConsumptionRate\": 0.0, \"Expired\": 0}, {\"Machine\": \"Reactor-358\", \"MIN\": \"A09B4\", \"JobId\": 14, \"TaskId\": 0, \"Start\": \"2023-05-06T13:00:00\", \"End\": \"2023-05-06T15:00:00\", \"Activity\": \"A09B4 - Reactor-358\", \"Operation\": \"A09B4 - Reactor-358\", \"MachineId\": 0, \"ConsumptionRate\": 0.0, \"Expired\": 0}, {\"Machine\": \"Reactor-358\", \"MIN\": \"A09B4\", \"JobId\": 14, \"TaskId\": 1, \"Start\": \"2023-05-06T15:00:00\", \"End\": \"2023-05-06T15:30:00\", \"Activity\": \"A09B4 - Reactor-358\", \"Operation\": \"A09B4 - Reactor-358\", \"MachineId\": 0, \"ConsumptionRate\": 0.4, \"Expired\": 0}, {\"Machine\": \"Reactor-358\", \"MIN\": \"A09B4\", \"JobId\": 14, \"TaskId\": 2, \"Start\": \"2023-05-06T15:30:00\", \"End\": \"2023-05-06T19:30:00\", \"Activity\": \"A09B4 - Reactor-358\", \"Operation\": \"A09B4 - Reactor-358\", \"MachineId\": 0, \"ConsumptionRate\": 0.8, \"Expired\": 0}, {\"Machine\": \"Reactor-358\", \"MIN\": \"A09B4\", \"JobId\": 14, \"TaskId\": 3, \"Start\": \"2023-05-06T19:30:00\", \"End\": \"2023-05-06T21:30:00\", \"Activity\": \"A09B4 - Reactor-358\", \"Operation\": \"A09B4 - Reactor-358\", \"MachineId\": 0, \"ConsumptionRate\": 0.0, \"Expired\": 0}, {\"Machine\": \"Reactor-358\", \"MIN\": \"A09B4\", \"JobId\": 14, \"TaskId\": \"DI Rinse\", \"Start\": \"2023-05-06T21:30:00\", \"End\": \"2023-05-06T22:00:00\", \"Activity\": \"A09B4 - Reactor-358\", \"Operation\": \"A09B4-A09B4-DI Rinse\", \"MachineId\": 0, \"ConsumptionRate\": 0.0, \"Expired\": 0}, {\"Machine\": \"Reactor-358\", \"MIN\": \"A09B4\", \"JobId\": 14, \"TaskId\": 5, \"Start\": \"2023-05-07T05:30:00\", \"End\": \"2023-05-07T07:30:00\", \"Activity\": \"A09B4 - Reactor-358\", \"Operation\": \"A09B4 - Reactor-358\", \"MachineId\": 0, \"ConsumptionRate\": 0.0, \"Expired\": 0}, {\"Machine\": \"Reactor-358\", \"MIN\": \"A09B4\", \"JobId\": 14, \"TaskId\": 6, \"Start\": \"2023-05-07T07:30:00\", \"End\": \"2023-05-07T08:00:00\", \"Activity\": \"A09B4 - Reactor-358\", \"Operation\": \"A09B4 - Reactor-358\", \"MachineId\": 0, \"ConsumptionRate\": 0.4, \"Expired\": 0}, {\"Machine\": \"Reactor-358\", \"MIN\": \"A09B4\", \"JobId\": 14, \"TaskId\": 7, \"Start\": \"2023-05-07T08:00:00\", \"End\": \"2023-05-07T12:00:00\", \"Activity\": \"A09B4 - Reactor-358\", \"Operation\": \"A09B4 - Reactor-358\", \"MachineId\": 0, \"ConsumptionRate\": 0.8, \"Expired\": 0}, {\"Machine\": \"Reactor-358\", \"MIN\": \"A09B4\", \"JobId\": 14, \"TaskId\": 8, \"Start\": \"2023-05-07T12:00:00\", \"End\": \"2023-05-07T14:00:00\", \"Activity\": \"A09B4 - Reactor-358\", \"Operation\": \"A09B4 - Reactor-358\", \"MachineId\": 0, \"ConsumptionRate\": 0.0, \"Expired\": 0}, {\"Machine\": \"Reactor-358\", \"MIN\": \"A09B4\", \"JobId\": 14, \"TaskId\": \"DI Rinse\", \"Start\": \"2023-05-07T14:00:00\", \"End\": \"2023-05-07T14:30:00\", \"Activity\": \"A09B4 - Reactor-358\", \"Operation\": \"A09B4-A09B4-DI Rinse\", \"MachineId\": 0, \"ConsumptionRate\": 0.0, \"Expired\": 0}, {\"Machine\": \"Reactor-358\", \"MIN\": \"A09B4\", \"JobId\": 21, \"TaskId\": 0, \"Start\": \"2023-05-07T14:30:00\", \"End\": \"2023-05-07T16:30:00\", \"Activity\": \"A09B4 - Reactor-358\", \"Operation\": \"A09B4 - Reactor-358\", \"MachineId\": 0, \"ConsumptionRate\": 0.0, \"Expired\": 0}, {\"Machine\": \"Reactor-358\", \"MIN\": \"A09B4\", \"JobId\": 21, \"TaskId\": 1, \"Start\": \"2023-05-07T16:30:00\", \"End\": \"2023-05-07T17:00:00\", \"Activity\": \"A09B4 - Reactor-358\", \"Operation\": \"A09B4 - Reactor-358\", \"MachineId\": 0, \"ConsumptionRate\": 0.4, \"Expired\": 0}, {\"Machine\": \"Reactor-358\", \"MIN\": \"A09B4\", \"JobId\": 21, \"TaskId\": 2, \"Start\": \"2023-05-07T17:00:00\", \"End\": \"2023-05-07T21:00:00\", \"Activity\": \"A09B4 - Reactor-358\", \"Operation\": \"A09B4 - Reactor-358\", \"MachineId\": 0, \"ConsumptionRate\": 0.8, \"Expired\": 0}, {\"Machine\": \"Reactor-358\", \"MIN\": \"A09B4\", \"JobId\": 21, \"TaskId\": 3, \"Start\": \"2023-05-07T21:00:00\", \"End\": \"2023-05-07T23:00:00\", \"Activity\": \"A09B4 - Reactor-358\", \"Operation\": \"A09B4 - Reactor-358\", \"MachineId\": 0, \"ConsumptionRate\": 0.0, \"Expired\": 0}, {\"Machine\": \"Reactor-358\", \"MIN\": \"A09B4\", \"JobId\": 21, \"TaskId\": \"DI Rinse\", \"Start\": \"2023-05-07T23:00:00\", \"End\": \"2023-05-07T23:30:00\", \"Activity\": \"A09B4 - Reactor-358\", \"Operation\": \"A09B4-A09B4-DI Rinse\", \"MachineId\": 0, \"ConsumptionRate\": 0.0, \"Expired\": 0}, {\"Machine\": \"Reactor-358\", \"MIN\": \"A09B4\", \"JobId\": 21, \"TaskId\": 5, \"Start\": \"2023-05-08T07:00:00\", \"End\": \"2023-05-08T09:00:00\", \"Activity\": \"A09B4 - Reactor-358\", \"Operation\": \"A09B4 - Reactor-358\", \"MachineId\": 0, \"ConsumptionRate\": 0.0, \"Expired\": 0}, {\"Machine\": \"Reactor-358\", \"MIN\": \"A09B4\", \"JobId\": 21, \"TaskId\": 6, \"Start\": \"2023-05-08T09:00:00\", \"End\": \"2023-05-08T09:30:00\", \"Activity\": \"A09B4 - Reactor-358\", \"Operation\": \"A09B4 - Reactor-358\", \"MachineId\": 0, \"ConsumptionRate\": 0.4, \"Expired\": 0}, {\"Machine\": \"Reactor-358\", \"MIN\": \"A09B4\", \"JobId\": 21, \"TaskId\": 7, \"Start\": \"2023-05-08T09:30:00\", \"End\": \"2023-05-08T13:30:00\", \"Activity\": \"A09B4 - Reactor-358\", \"Operation\": \"A09B4 - Reactor-358\", \"MachineId\": 0, \"ConsumptionRate\": 0.8, \"Expired\": 0}, {\"Machine\": \"Reactor-358\", \"MIN\": \"A09B4\", \"JobId\": 21, \"TaskId\": 8, \"Start\": \"2023-05-08T13:30:00\", \"End\": \"2023-05-08T15:30:00\", \"Activity\": \"A09B4 - Reactor-358\", \"Operation\": \"A09B4 - Reactor-358\", \"MachineId\": 0, \"ConsumptionRate\": 0.0, \"Expired\": 0}, {\"Machine\": \"Reactor-358\", \"MIN\": \"A09B4\", \"JobId\": 21, \"TaskId\": \"DI Rinse\", \"Start\": \"2023-05-08T15:30:00\", \"End\": \"2023-05-08T16:00:00\", \"Activity\": \"A09B4 - Reactor-358\", \"Operation\": \"A09B4-A09B4-DI Rinse\", \"MachineId\": 0, \"ConsumptionRate\": 0.0, \"Expired\": 0}, {\"Machine\": \"Reactor-358\", \"MIN\": \"A09B4\", \"JobId\": 28, \"TaskId\": 0, \"Start\": \"2023-05-08T16:00:00\", \"End\": \"2023-05-08T18:00:00\", \"Activity\": \"A09B4 - Reactor-358\", \"Operation\": \"A09B4 - Reactor-358\", \"MachineId\": 0, \"ConsumptionRate\": 0.0, \"Expired\": 0}, {\"Machine\": \"Reactor-358\", \"MIN\": \"A09B4\", \"JobId\": 28, \"TaskId\": 1, \"Start\": \"2023-05-08T18:00:00\", \"End\": \"2023-05-08T18:30:00\", \"Activity\": \"A09B4 - Reactor-358\", \"Operation\": \"A09B4 - Reactor-358\", \"MachineId\": 0, \"ConsumptionRate\": 0.4, \"Expired\": 0}, {\"Machine\": \"Reactor-358\", \"MIN\": \"A09B4\", \"JobId\": 28, \"TaskId\": 2, \"Start\": \"2023-05-08T18:30:00\", \"End\": \"2023-05-08T22:30:00\", \"Activity\": \"A09B4 - Reactor-358\", \"Operation\": \"A09B4 - Reactor-358\", \"MachineId\": 0, \"ConsumptionRate\": 0.8, \"Expired\": 0}, {\"Machine\": \"Reactor-358\", \"MIN\": \"A09B4\", \"JobId\": 28, \"TaskId\": 3, \"Start\": \"2023-05-08T22:30:00\", \"End\": \"2023-05-09T00:30:00\", \"Activity\": \"A09B4 - Reactor-358\", \"Operation\": \"A09B4 - Reactor-358\", \"MachineId\": 0, \"ConsumptionRate\": 0.0, \"Expired\": 0}, {\"Machine\": \"Reactor-358\", \"MIN\": \"A09B4\", \"JobId\": 28, \"TaskId\": \"DI Rinse\", \"Start\": \"2023-05-09T00:30:00\", \"End\": \"2023-05-09T01:00:00\", \"Activity\": \"A09B4 - Reactor-358\", \"Operation\": \"A09B4-A09B4-DI Rinse\", \"MachineId\": 0, \"ConsumptionRate\": 0.0, \"Expired\": 0}, {\"Machine\": \"Reactor-358\", \"MIN\": \"A09B4\", \"JobId\": 28, \"TaskId\": 5, \"Start\": \"2023-05-09T08:30:00\", \"End\": \"2023-05-09T10:30:00\", \"Activity\": \"A09B4 - Reactor-358\", \"Operation\": \"A09B4 - Reactor-358\", \"MachineId\": 0, \"ConsumptionRate\": 0.0, \"Expired\": 0}, {\"Machine\": \"Reactor-358\", \"MIN\": \"A09B4\", \"JobId\": 28, \"TaskId\": 6, \"Start\": \"2023-05-09T10:30:00\", \"End\": \"2023-05-09T11:00:00\", \"Activity\": \"A09B4 - Reactor-358\", \"Operation\": \"A09B4 - Reactor-358\", \"MachineId\": 0, \"ConsumptionRate\": 0.4, \"Expired\": 0}, {\"Machine\": \"Reactor-358\", \"MIN\": \"A09B4\", \"JobId\": 28, \"TaskId\": 7, \"Start\": \"2023-05-09T11:00:00\", \"End\": \"2023-05-09T15:00:00\", \"Activity\": \"A09B4 - Reactor-358\", \"Operation\": \"A09B4 - Reactor-358\", \"MachineId\": 0, \"ConsumptionRate\": 0.8, \"Expired\": 0}, {\"Machine\": \"Reactor-358\", \"MIN\": \"A09B4\", \"JobId\": 28, \"TaskId\": 8, \"Start\": \"2023-05-09T15:00:00\", \"End\": \"2023-05-09T17:00:00\", \"Activity\": \"A09B4 - Reactor-358\", \"Operation\": \"A09B4 - Reactor-358\", \"MachineId\": 0, \"ConsumptionRate\": 0.0, \"Expired\": 0}, {\"Machine\": \"Reactor-358\", \"MIN\": \"A09B4\", \"JobId\": 28, \"TaskId\": \"DI Rinse\", \"Start\": \"2023-05-09T17:00:00\", \"End\": \"2023-05-09T17:30:00\", \"Activity\": \"A09B4 - Reactor-358\", \"Operation\": \"A09B4-A09B4-DI Rinse\", \"MachineId\": 0, \"ConsumptionRate\": 0.0, \"Expired\": 0}, {\"Machine\": \"Reactor-358\", \"MIN\": \"A09B4\", \"JobId\": 35, \"TaskId\": 0, \"Start\": \"2023-05-09T17:30:00\", \"End\": \"2023-05-09T19:30:00\", \"Activity\": \"A09B4 - Reactor-358\", \"Operation\": \"A09B4 - Reactor-358\", \"MachineId\": 0, \"ConsumptionRate\": 0.0, \"Expired\": 0}, {\"Machine\": \"Reactor-358\", \"MIN\": \"A09B4\", \"JobId\": 35, \"TaskId\": 1, \"Start\": \"2023-05-09T19:30:00\", \"End\": \"2023-05-09T20:00:00\", \"Activity\": \"A09B4 - Reactor-358\", \"Operation\": \"A09B4 - Reactor-358\", \"MachineId\": 0, \"ConsumptionRate\": 0.4, \"Expired\": 0}, {\"Machine\": \"Reactor-358\", \"MIN\": \"A09B4\", \"JobId\": 35, \"TaskId\": 2, \"Start\": \"2023-05-09T20:00:00\", \"End\": \"2023-05-10T00:00:00\", \"Activity\": \"A09B4 - Reactor-358\", \"Operation\": \"A09B4 - Reactor-358\", \"MachineId\": 0, \"ConsumptionRate\": 0.8, \"Expired\": 0}, {\"Machine\": \"Reactor-358\", \"MIN\": \"A09B4\", \"JobId\": 35, \"TaskId\": 3, \"Start\": \"2023-05-10T00:00:00\", \"End\": \"2023-05-10T02:00:00\", \"Activity\": \"A09B4 - Reactor-358\", \"Operation\": \"A09B4 - Reactor-358\", \"MachineId\": 0, \"ConsumptionRate\": 0.0, \"Expired\": 0}, {\"Machine\": \"Reactor-358\", \"MIN\": \"A09B4\", \"JobId\": 35, \"TaskId\": \"DI Rinse\", \"Start\": \"2023-05-10T02:00:00\", \"End\": \"2023-05-10T02:30:00\", \"Activity\": \"A09B4 - Reactor-358\", \"Operation\": \"A09B4-A09B4-DI Rinse\", \"MachineId\": 0, \"ConsumptionRate\": 0.0, \"Expired\": 0}, {\"Machine\": \"Reactor-358\", \"MIN\": \"A09B4\", \"JobId\": 35, \"TaskId\": 5, \"Start\": \"2023-05-10T10:00:00\", \"End\": \"2023-05-10T12:00:00\", \"Activity\": \"A09B4 - Reactor-358\", \"Operation\": \"A09B4 - Reactor-358\", \"MachineId\": 0, \"ConsumptionRate\": 0.0, \"Expired\": 0}, {\"Machine\": \"Reactor-358\", \"MIN\": \"A09B4\", \"JobId\": 35, \"TaskId\": 6, \"Start\": \"2023-05-10T12:00:00\", \"End\": \"2023-05-10T12:30:00\", \"Activity\": \"A09B4 - Reactor-358\", \"Operation\": \"A09B4 - Reactor-358\", \"MachineId\": 0, \"ConsumptionRate\": 0.4, \"Expired\": 0}, {\"Machine\": \"Reactor-358\", \"MIN\": \"A09B4\", \"JobId\": 35, \"TaskId\": 7, \"Start\": \"2023-05-10T12:30:00\", \"End\": \"2023-05-10T16:30:00\", \"Activity\": \"A09B4 - Reactor-358\", \"Operation\": \"A09B4 - Reactor-358\", \"MachineId\": 0, \"ConsumptionRate\": 0.8, \"Expired\": 0}, {\"Machine\": \"Reactor-358\", \"MIN\": \"A09B4\", \"JobId\": 35, \"TaskId\": 8, \"Start\": \"2023-05-10T16:30:00\", \"End\": \"2023-05-10T18:30:00\", \"Activity\": \"A09B4 - Reactor-358\", \"Operation\": \"A09B4 - Reactor-358\", \"MachineId\": 0, \"ConsumptionRate\": 0.0, \"Expired\": 0}, {\"Machine\": \"Reactor-358\", \"MIN\": \"A09B4\", \"JobId\": 35, \"TaskId\": \"DI Rinse\", \"Start\": \"2023-05-10T18:30:00\", \"End\": \"2023-05-10T19:00:00\", \"Activity\": \"A09B4 - Reactor-358\", \"Operation\": \"A09B4-A09B4-DI Rinse\", \"MachineId\": 0, \"ConsumptionRate\": 0.0, \"Expired\": 0}, {\"Machine\": \"Reactor-358\", \"MIN\": \"M09C2\", \"JobId\": 62, \"TaskId\": 0, \"Start\": \"2023-05-10T19:00:00\", \"End\": \"2023-05-10T21:00:00\", \"Activity\": \"M09C2 - Reactor-358\", \"Operation\": \"M09C2 - Reactor-358\", \"MachineId\": 0, \"ConsumptionRate\": 0.0, \"Expired\": 0}, {\"Machine\": \"Reactor-358\", \"MIN\": \"M09C2\", \"JobId\": 62, \"TaskId\": 1, \"Start\": \"2023-05-10T21:00:00\", \"End\": \"2023-05-10T21:30:00\", \"Activity\": \"M09C2 - Reactor-358\", \"Operation\": \"M09C2 - Reactor-358\", \"MachineId\": 0, \"ConsumptionRate\": 0.3333333333333333, \"Expired\": 0}, {\"Machine\": \"Reactor-358\", \"MIN\": \"M09C2\", \"JobId\": 62, \"TaskId\": 2, \"Start\": \"2023-05-10T21:30:00\", \"End\": \"2023-05-11T01:30:00\", \"Activity\": \"M09C2 - Reactor-358\", \"Operation\": \"M09C2 - Reactor-358\", \"MachineId\": 0, \"ConsumptionRate\": 0.8, \"Expired\": 0}, {\"Machine\": \"Reactor-358\", \"MIN\": \"M09C2\", \"JobId\": 62, \"TaskId\": 3, \"Start\": \"2023-05-11T01:30:00\", \"End\": \"2023-05-11T03:30:00\", \"Activity\": \"M09C2 - Reactor-358\", \"Operation\": \"M09C2 - Reactor-358\", \"MachineId\": 0, \"ConsumptionRate\": 0.0, \"Expired\": 0}, {\"Machine\": \"Reactor-358\", \"MIN\": \"M09C2\", \"JobId\": 62, \"TaskId\": \"DI Rinse\", \"Start\": \"2023-05-11T03:30:00\", \"End\": \"2023-05-11T04:00:00\", \"Activity\": \"M09C2 - Reactor-358\", \"Operation\": \"M09C2-M09C2-DI Rinse\", \"MachineId\": 0, \"ConsumptionRate\": 0.0, \"Expired\": 0}, {\"Machine\": \"Reactor-358\", \"MIN\": \"M09C2\", \"JobId\": 66, \"TaskId\": 0, \"Start\": \"2023-05-11T04:00:00\", \"End\": \"2023-05-11T06:00:00\", \"Activity\": \"M09C2 - Reactor-358\", \"Operation\": \"M09C2 - Reactor-358\", \"MachineId\": 0, \"ConsumptionRate\": 0.0, \"Expired\": 0}, {\"Machine\": \"Reactor-358\", \"MIN\": \"M09C2\", \"JobId\": 66, \"TaskId\": 1, \"Start\": \"2023-05-11T06:00:00\", \"End\": \"2023-05-11T06:30:00\", \"Activity\": \"M09C2 - Reactor-358\", \"Operation\": \"M09C2 - Reactor-358\", \"MachineId\": 0, \"ConsumptionRate\": 0.3333333333333333, \"Expired\": 0}, {\"Machine\": \"Reactor-358\", \"MIN\": \"M09C2\", \"JobId\": 66, \"TaskId\": 2, \"Start\": \"2023-05-11T06:30:00\", \"End\": \"2023-05-11T10:30:00\", \"Activity\": \"M09C2 - Reactor-358\", \"Operation\": \"M09C2 - Reactor-358\", \"MachineId\": 0, \"ConsumptionRate\": 0.8, \"Expired\": 0}, {\"Machine\": \"Reactor-358\", \"MIN\": \"M09C2\", \"JobId\": 66, \"TaskId\": 3, \"Start\": \"2023-05-11T10:30:00\", \"End\": \"2023-05-11T12:30:00\", \"Activity\": \"M09C2 - Reactor-358\", \"Operation\": \"M09C2 - Reactor-358\", \"MachineId\": 0, \"ConsumptionRate\": 0.0, \"Expired\": 0}, {\"Machine\": \"Reactor-358\", \"MIN\": \"M09C2\", \"JobId\": 66, \"TaskId\": \"DI Rinse\", \"Start\": \"2023-05-11T12:30:00\", \"End\": \"2023-05-11T13:00:00\", \"Activity\": \"M09C2 - Reactor-358\", \"Operation\": \"M09C2-M09C2-DI Rinse\", \"MachineId\": 0, \"ConsumptionRate\": 0.0, \"Expired\": 0}, {\"Machine\": \"Reactor-358\", \"MIN\": \"M09C2\", \"JobId\": 70, \"TaskId\": 0, \"Start\": \"2023-05-11T13:00:00\", \"End\": \"2023-05-11T15:00:00\", \"Activity\": \"M09C2 - Reactor-358\", \"Operation\": \"M09C2 - Reactor-358\", \"MachineId\": 0, \"ConsumptionRate\": 0.0, \"Expired\": 0}, {\"Machine\": \"Reactor-358\", \"MIN\": \"M09C2\", \"JobId\": 70, \"TaskId\": 1, \"Start\": \"2023-05-11T15:00:00\", \"End\": \"2023-05-11T15:30:00\", \"Activity\": \"M09C2 - Reactor-358\", \"Operation\": \"M09C2 - Reactor-358\", \"MachineId\": 0, \"ConsumptionRate\": 0.3333333333333333, \"Expired\": 0}, {\"Machine\": \"Reactor-358\", \"MIN\": \"M09C2\", \"JobId\": 70, \"TaskId\": 2, \"Start\": \"2023-05-11T15:30:00\", \"End\": \"2023-05-11T19:30:00\", \"Activity\": \"M09C2 - Reactor-358\", \"Operation\": \"M09C2 - Reactor-358\", \"MachineId\": 0, \"ConsumptionRate\": 0.8, \"Expired\": 0}, {\"Machine\": \"Reactor-358\", \"MIN\": \"M09C2\", \"JobId\": 70, \"TaskId\": 3, \"Start\": \"2023-05-11T19:30:00\", \"End\": \"2023-05-11T21:30:00\", \"Activity\": \"M09C2 - Reactor-358\", \"Operation\": \"M09C2 - Reactor-358\", \"MachineId\": 0, \"ConsumptionRate\": 0.0, \"Expired\": 0}, {\"Machine\": \"Reactor-358\", \"MIN\": \"M09C2\", \"JobId\": 70, \"TaskId\": \"DI Rinse\", \"Start\": \"2023-05-11T21:30:00\", \"End\": \"2023-05-11T22:00:00\", \"Activity\": \"M09C2 - Reactor-358\", \"Operation\": \"M09C2-M09C2-DI Rinse\", \"MachineId\": 0, \"ConsumptionRate\": 0.0, \"Expired\": 0}, {\"Machine\": \"Reactor-358\", \"MIN\": \"M09C2\", \"JobId\": 74, \"TaskId\": 0, \"Start\": \"2023-05-11T22:00:00\", \"End\": \"2023-05-12T00:00:00\", \"Activity\": \"M09C2 - Reactor-358\", \"Operation\": \"M09C2 - Reactor-358\", \"MachineId\": 0, \"ConsumptionRate\": 0.0, \"Expired\": 0}, {\"Machine\": \"Reactor-358\", \"MIN\": \"M09C2\", \"JobId\": 74, \"TaskId\": 1, \"Start\": \"2023-05-12T00:00:00\", \"End\": \"2023-05-12T00:30:00\", \"Activity\": \"M09C2 - Reactor-358\", \"Operation\": \"M09C2 - Reactor-358\", \"MachineId\": 0, \"ConsumptionRate\": 0.3333333333333333, \"Expired\": 0}, {\"Machine\": \"Reactor-358\", \"MIN\": \"M09C2\", \"JobId\": 74, \"TaskId\": 2, \"Start\": \"2023-05-12T00:30:00\", \"End\": \"2023-05-12T04:30:00\", \"Activity\": \"M09C2 - Reactor-358\", \"Operation\": \"M09C2 - Reactor-358\", \"MachineId\": 0, \"ConsumptionRate\": 0.8, \"Expired\": 0}, {\"Machine\": \"Reactor-358\", \"MIN\": \"M09C2\", \"JobId\": 74, \"TaskId\": 3, \"Start\": \"2023-05-12T04:30:00\", \"End\": \"2023-05-12T06:30:00\", \"Activity\": \"M09C2 - Reactor-358\", \"Operation\": \"M09C2 - Reactor-358\", \"MachineId\": 0, \"ConsumptionRate\": 0.0, \"Expired\": 0}, {\"Machine\": \"Reactor-358\", \"MIN\": \"M09C2\", \"JobId\": 74, \"TaskId\": \"DI Rinse\", \"Start\": \"2023-05-12T06:30:00\", \"End\": \"2023-05-12T07:00:00\", \"Activity\": \"M09C2 - Reactor-358\", \"Operation\": \"M09C2-M09C2-DI Rinse\", \"MachineId\": 0, \"ConsumptionRate\": 0.0, \"Expired\": 0}, {\"Machine\": \"Reactor-358\", \"MIN\": \"F05E5\", \"JobId\": 42, \"TaskId\": 0, \"Start\": \"2023-05-12T07:00:00\", \"End\": \"2023-05-12T09:30:00\", \"Activity\": \"F05E5 - Reactor-358\", \"Operation\": \"F05E5 - Reactor-358\", \"MachineId\": 0, \"ConsumptionRate\": 0.0, \"Expired\": 0}, {\"Machine\": \"Reactor-358\", \"MIN\": \"F05E5\", \"JobId\": 42, \"TaskId\": 1, \"Start\": \"2023-05-12T09:30:00\", \"End\": \"2023-05-12T12:45:00\", \"Activity\": \"F05E5 - Reactor-358\", \"Operation\": \"F05E5 - Reactor-358\", \"MachineId\": 0, \"ConsumptionRate\": 2.1333333333333333, \"Expired\": 0}, {\"Machine\": \"Reactor-358\", \"MIN\": \"F05E5\", \"JobId\": 42, \"TaskId\": 2, \"Start\": \"2023-05-12T12:45:00\", \"End\": \"2023-05-12T15:15:00\", \"Activity\": \"F05E5 - Reactor-358\", \"Operation\": \"F05E5 - Reactor-358\", \"MachineId\": 0, \"ConsumptionRate\": 0.0, \"Expired\": 0}, {\"Machine\": \"Reactor-358\", \"MIN\": \"F05E5\", \"JobId\": 42, \"TaskId\": \"DI Rinse\", \"Start\": \"2023-05-12T15:15:00\", \"End\": \"2023-05-12T15:45:00\", \"Activity\": \"F05E5 - Reactor-358\", \"Operation\": \"F05E5-F05E5-DI Rinse\", \"MachineId\": 0, \"ConsumptionRate\": 0.0, \"Expired\": 0}, {\"Machine\": \"Reactor-358\", \"MIN\": \"F05E5\", \"JobId\": 42, \"TaskId\": 4, \"Start\": \"2023-05-12T23:15:00\", \"End\": \"2023-05-13T01:45:00\", \"Activity\": \"F05E5 - Reactor-358\", \"Operation\": \"F05E5 - Reactor-358\", \"MachineId\": 0, \"ConsumptionRate\": 0.0, \"Expired\": 0}, {\"Machine\": \"Reactor-358\", \"MIN\": \"F05E5\", \"JobId\": 42, \"TaskId\": 5, \"Start\": \"2023-05-13T01:45:00\", \"End\": \"2023-05-13T05:00:00\", \"Activity\": \"F05E5 - Reactor-358\", \"Operation\": \"F05E5 - Reactor-358\", \"MachineId\": 0, \"ConsumptionRate\": 2.1333333333333333, \"Expired\": 0}, {\"Machine\": \"Reactor-358\", \"MIN\": \"F05E5\", \"JobId\": 42, \"TaskId\": 6, \"Start\": \"2023-05-13T05:00:00\", \"End\": \"2023-05-13T07:30:00\", \"Activity\": \"F05E5 - Reactor-358\", \"Operation\": \"F05E5 - Reactor-358\", \"MachineId\": 0, \"ConsumptionRate\": 0.0, \"Expired\": 0}, {\"Machine\": \"Reactor-358\", \"MIN\": \"F05E5\", \"JobId\": 42, \"TaskId\": \"DI Rinse\", \"Start\": \"2023-05-13T07:30:00\", \"End\": \"2023-05-13T08:00:00\", \"Activity\": \"F05E5 - Reactor-358\", \"Operation\": \"F05E5-F05E5-DI Rinse\", \"MachineId\": 0, \"ConsumptionRate\": 0.0, \"Expired\": 0}, {\"Machine\": \"Reactor-358\", \"MIN\": \"F05E5\", \"JobId\": 42, \"TaskId\": 8, \"Start\": \"2023-05-13T15:30:00\", \"End\": \"2023-05-13T18:00:00\", \"Activity\": \"F05E5 - Reactor-358\", \"Operation\": \"F05E5 - Reactor-358\", \"MachineId\": 0, \"ConsumptionRate\": 0.0, \"Expired\": 0}, {\"Machine\": \"Reactor-358\", \"MIN\": \"F05E5\", \"JobId\": 42, \"TaskId\": 9, \"Start\": \"2023-05-13T18:00:00\", \"End\": \"2023-05-13T21:15:00\", \"Activity\": \"F05E5 - Reactor-358\", \"Operation\": \"F05E5 - Reactor-358\", \"MachineId\": 0, \"ConsumptionRate\": 2.1333333333333333, \"Expired\": 0}, {\"Machine\": \"Reactor-358\", \"MIN\": \"F05E5\", \"JobId\": 42, \"TaskId\": 10, \"Start\": \"2023-05-13T21:15:00\", \"End\": \"2023-05-13T23:45:00\", \"Activity\": \"F05E5 - Reactor-358\", \"Operation\": \"F05E5 - Reactor-358\", \"MachineId\": 0, \"ConsumptionRate\": 0.0, \"Expired\": 0}, {\"Machine\": \"Reactor-358\", \"MIN\": \"F05E5\", \"JobId\": 42, \"TaskId\": \"DI Rinse\", \"Start\": \"2023-05-13T23:45:00\", \"End\": \"2023-05-14T00:15:00\", \"Activity\": \"F05E5 - Reactor-358\", \"Operation\": \"F05E5-F05E5-DI Rinse\", \"MachineId\": 0, \"ConsumptionRate\": 0.0, \"Expired\": 0}, {\"Machine\": \"Reactor-358\", \"MIN\": \"F05E5\", \"JobId\": 52, \"TaskId\": 0, \"Start\": \"2023-05-14T00:15:00\", \"End\": \"2023-05-14T02:45:00\", \"Activity\": \"F05E5 - Reactor-358\", \"Operation\": \"F05E5 - Reactor-358\", \"MachineId\": 0, \"ConsumptionRate\": 0.0, \"Expired\": 0}, {\"Machine\": \"Reactor-358\", \"MIN\": \"F05E5\", \"JobId\": 52, \"TaskId\": 1, \"Start\": \"2023-05-14T02:45:00\", \"End\": \"2023-05-14T06:00:00\", \"Activity\": \"F05E5 - Reactor-358\", \"Operation\": \"F05E5 - Reactor-358\", \"MachineId\": 0, \"ConsumptionRate\": 2.1333333333333333, \"Expired\": 0}, {\"Machine\": \"Reactor-358\", \"MIN\": \"F05E5\", \"JobId\": 52, \"TaskId\": 2, \"Start\": \"2023-05-14T06:00:00\", \"End\": \"2023-05-14T08:30:00\", \"Activity\": \"F05E5 - Reactor-358\", \"Operation\": \"F05E5 - Reactor-358\", \"MachineId\": 0, \"ConsumptionRate\": 0.0, \"Expired\": 0}, {\"Machine\": \"Reactor-358\", \"MIN\": \"F05E5\", \"JobId\": 52, \"TaskId\": \"DI Rinse\", \"Start\": \"2023-05-14T08:30:00\", \"End\": \"2023-05-14T09:00:00\", \"Activity\": \"F05E5 - Reactor-358\", \"Operation\": \"F05E5-F05E5-DI Rinse\", \"MachineId\": 0, \"ConsumptionRate\": 0.0, \"Expired\": 0}, {\"Machine\": \"Reactor-358\", \"MIN\": \"F05E5\", \"JobId\": 52, \"TaskId\": 4, \"Start\": \"2023-05-14T16:30:00\", \"End\": \"2023-05-14T19:00:00\", \"Activity\": \"F05E5 - Reactor-358\", \"Operation\": \"F05E5 - Reactor-358\", \"MachineId\": 0, \"ConsumptionRate\": 0.0, \"Expired\": 0}, {\"Machine\": \"Reactor-358\", \"MIN\": \"F05E5\", \"JobId\": 52, \"TaskId\": 5, \"Start\": \"2023-05-14T19:00:00\", \"End\": \"2023-05-14T22:15:00\", \"Activity\": \"F05E5 - Reactor-358\", \"Operation\": \"F05E5 - Reactor-358\", \"MachineId\": 0, \"ConsumptionRate\": 2.1333333333333333, \"Expired\": 0}, {\"Machine\": \"Reactor-358\", \"MIN\": \"F05E5\", \"JobId\": 52, \"TaskId\": 6, \"Start\": \"2023-05-14T22:15:00\", \"End\": \"2023-05-15T00:45:00\", \"Activity\": \"F05E5 - Reactor-358\", \"Operation\": \"F05E5 - Reactor-358\", \"MachineId\": 0, \"ConsumptionRate\": 0.0, \"Expired\": 0}, {\"Machine\": \"Reactor-358\", \"MIN\": \"F05E5\", \"JobId\": 52, \"TaskId\": \"DI Rinse\", \"Start\": \"2023-05-15T00:45:00\", \"End\": \"2023-05-15T01:15:00\", \"Activity\": \"F05E5 - Reactor-358\", \"Operation\": \"F05E5-F05E5-DI Rinse\", \"MachineId\": 0, \"ConsumptionRate\": 0.0, \"Expired\": 0}, {\"Machine\": \"Reactor-358\", \"MIN\": \"F05E5\", \"JobId\": 52, \"TaskId\": 8, \"Start\": \"2023-05-15T08:45:00\", \"End\": \"2023-05-15T11:15:00\", \"Activity\": \"F05E5 - Reactor-358\", \"Operation\": \"F05E5 - Reactor-358\", \"MachineId\": 0, \"ConsumptionRate\": 0.0, \"Expired\": 0}, {\"Machine\": \"Reactor-358\", \"MIN\": \"F05E5\", \"JobId\": 52, \"TaskId\": 9, \"Start\": \"2023-05-15T11:15:00\", \"End\": \"2023-05-15T14:30:00\", \"Activity\": \"F05E5 - Reactor-358\", \"Operation\": \"F05E5 - Reactor-358\", \"MachineId\": 0, \"ConsumptionRate\": 2.1333333333333333, \"Expired\": 0}, {\"Machine\": \"Reactor-358\", \"MIN\": \"F05E5\", \"JobId\": 52, \"TaskId\": 10, \"Start\": \"2023-05-15T14:30:00\", \"End\": \"2023-05-15T17:00:00\", \"Activity\": \"F05E5 - Reactor-358\", \"Operation\": \"F05E5 - Reactor-358\", \"MachineId\": 0, \"ConsumptionRate\": 0.0, \"Expired\": 0}, {\"Machine\": \"Reactor-358\", \"MIN\": \"F05E5\", \"JobId\": 52, \"TaskId\": \"DI Rinse\", \"Start\": \"2023-05-15T17:00:00\", \"End\": \"2023-05-15T17:30:00\", \"Activity\": \"F05E5 - Reactor-358\", \"Operation\": \"F05E5-F05E5-DI Rinse\", \"MachineId\": 0, \"ConsumptionRate\": 0.0, \"Expired\": 0}, {\"Machine\": \"Reactor-358\", \"MIN\": \"D07D2\", \"JobId\": 102, \"TaskId\": 0, \"Start\": \"2023-05-15T17:30:00\", \"End\": \"2023-05-15T20:30:00\", \"Activity\": \"D07D2 - Reactor-358\", \"Operation\": \"D07D2 - Reactor-358\", \"MachineId\": 0, \"ConsumptionRate\": 0.0, \"Expired\": 0}, {\"Machine\": \"Reactor-358\", \"MIN\": \"D07D2\", \"JobId\": 102, \"TaskId\": 1, \"Start\": \"2023-05-15T20:30:00\", \"End\": \"2023-05-15T21:00:00\", \"Activity\": \"D07D2 - Reactor-358\", \"Operation\": \"D07D2 - Reactor-358\", \"MachineId\": 0, \"ConsumptionRate\": 0.3333333333333333, \"Expired\": 0}, {\"Machine\": \"Reactor-358\", \"MIN\": \"D07D2\", \"JobId\": 102, \"TaskId\": 2, \"Start\": \"2023-05-15T21:00:00\", \"End\": \"2023-05-16T01:00:00\", \"Activity\": \"D07D2 - Reactor-358\", \"Operation\": \"D07D2 - Reactor-358\", \"MachineId\": 0, \"ConsumptionRate\": 0.8, \"Expired\": 0}, {\"Machine\": \"Reactor-358\", \"MIN\": \"D07D2\", \"JobId\": 102, \"TaskId\": 3, \"Start\": \"2023-05-16T01:00:00\", \"End\": \"2023-05-16T04:00:00\", \"Activity\": \"D07D2 - Reactor-358\", \"Operation\": \"D07D2 - Reactor-358\", \"MachineId\": 0, \"ConsumptionRate\": 0.0, \"Expired\": 0}, {\"Machine\": \"Reactor-358\", \"MIN\": \"D07D2\", \"JobId\": 102, \"TaskId\": \"DI Rinse\", \"Start\": \"2023-05-16T04:00:00\", \"End\": \"2023-05-16T04:30:00\", \"Activity\": \"D07D2 - Reactor-358\", \"Operation\": \"D07D2-D07D2-DI Rinse\", \"MachineId\": 0, \"ConsumptionRate\": 0.0, \"Expired\": 0}, {\"Machine\": \"Reactor-358\", \"MIN\": \"D07D2\", \"JobId\": 102, \"TaskId\": 5, \"Start\": \"2023-05-16T12:00:00\", \"End\": \"2023-05-16T15:00:00\", \"Activity\": \"D07D2 - Reactor-358\", \"Operation\": \"D07D2 - Reactor-358\", \"MachineId\": 0, \"ConsumptionRate\": 0.0, \"Expired\": 0}, {\"Machine\": \"Reactor-358\", \"MIN\": \"D07D2\", \"JobId\": 102, \"TaskId\": 6, \"Start\": \"2023-05-16T15:00:00\", \"End\": \"2023-05-16T15:30:00\", \"Activity\": \"D07D2 - Reactor-358\", \"Operation\": \"D07D2 - Reactor-358\", \"MachineId\": 0, \"ConsumptionRate\": 0.3333333333333333, \"Expired\": 0}, {\"Machine\": \"Reactor-358\", \"MIN\": \"D07D2\", \"JobId\": 102, \"TaskId\": 7, \"Start\": \"2023-05-16T15:30:00\", \"End\": \"2023-05-16T19:30:00\", \"Activity\": \"D07D2 - Reactor-358\", \"Operation\": \"D07D2 - Reactor-358\", \"MachineId\": 0, \"ConsumptionRate\": 0.8, \"Expired\": 0}, {\"Machine\": \"Reactor-358\", \"MIN\": \"D07D2\", \"JobId\": 102, \"TaskId\": 8, \"Start\": \"2023-05-16T19:30:00\", \"End\": \"2023-05-16T22:30:00\", \"Activity\": \"D07D2 - Reactor-358\", \"Operation\": \"D07D2 - Reactor-358\", \"MachineId\": 0, \"ConsumptionRate\": 0.0, \"Expired\": 0}, {\"Machine\": \"Reactor-358\", \"MIN\": \"D07D2\", \"JobId\": 102, \"TaskId\": \"DI Rinse\", \"Start\": \"2023-05-16T22:30:00\", \"End\": \"2023-05-16T23:00:00\", \"Activity\": \"D07D2 - Reactor-358\", \"Operation\": \"D07D2-D07D2-DI Rinse\", \"MachineId\": 0, \"ConsumptionRate\": 0.0, \"Expired\": 0}, {\"Machine\": \"Reactor-358\", \"MIN\": \"D07D2\", \"JobId\": 102, \"TaskId\": 10, \"Start\": \"2023-05-17T06:30:00\", \"End\": \"2023-05-17T09:30:00\", \"Activity\": \"D07D2 - Reactor-358\", \"Operation\": \"D07D2 - Reactor-358\", \"MachineId\": 0, \"ConsumptionRate\": 0.0, \"Expired\": 0}, {\"Machine\": \"Reactor-358\", \"MIN\": \"D07D2\", \"JobId\": 102, \"TaskId\": 11, \"Start\": \"2023-05-17T09:30:00\", \"End\": \"2023-05-17T10:00:00\", \"Activity\": \"D07D2 - Reactor-358\", \"Operation\": \"D07D2 - Reactor-358\", \"MachineId\": 0, \"ConsumptionRate\": 0.3333333333333333, \"Expired\": 0}, {\"Machine\": \"Reactor-358\", \"MIN\": \"D07D2\", \"JobId\": 102, \"TaskId\": 12, \"Start\": \"2023-05-17T10:00:00\", \"End\": \"2023-05-17T14:00:00\", \"Activity\": \"D07D2 - Reactor-358\", \"Operation\": \"D07D2 - Reactor-358\", \"MachineId\": 0, \"ConsumptionRate\": 0.8, \"Expired\": 0}, {\"Machine\": \"Reactor-358\", \"MIN\": \"D07D2\", \"JobId\": 102, \"TaskId\": 13, \"Start\": \"2023-05-17T14:00:00\", \"End\": \"2023-05-17T17:00:00\", \"Activity\": \"D07D2 - Reactor-358\", \"Operation\": \"D07D2 - Reactor-358\", \"MachineId\": 0, \"ConsumptionRate\": 0.0, \"Expired\": 0}, {\"Machine\": \"Reactor-358\", \"MIN\": \"D07D2\", \"JobId\": 102, \"TaskId\": \"DI Rinse\", \"Start\": \"2023-05-17T17:00:00\", \"End\": \"2023-05-17T17:30:00\", \"Activity\": \"D07D2 - Reactor-358\", \"Operation\": \"D07D2-D07D2-DI Rinse\", \"MachineId\": 0, \"ConsumptionRate\": 0.0, \"Expired\": 0}, {\"Machine\": \"Reactor-358\", \"MIN\": \"W05Z5\", \"JobId\": 122, \"TaskId\": 0, \"Start\": \"2023-05-17T17:30:00\", \"End\": \"2023-05-17T21:30:00\", \"Activity\": \"W05Z5 - Reactor-358\", \"Operation\": \"W05Z5 - Reactor-358\", \"MachineId\": 0, \"ConsumptionRate\": 0.0, \"Expired\": 0}, {\"Machine\": \"Reactor-358\", \"MIN\": \"W05Z5\", \"JobId\": 122, \"TaskId\": 1, \"Start\": \"2023-05-17T21:30:00\", \"End\": \"2023-05-17T22:00:00\", \"Activity\": \"W05Z5 - Reactor-358\", \"Operation\": \"W05Z5 - Reactor-358\", \"MachineId\": 0, \"ConsumptionRate\": 0.06666666666666667, \"Expired\": 0}, {\"Machine\": \"Reactor-358\", \"MIN\": \"W05Z5\", \"JobId\": 122, \"TaskId\": 2, \"Start\": \"2023-05-17T22:00:00\", \"End\": \"2023-05-18T02:00:00\", \"Activity\": \"W05Z5 - Reactor-358\", \"Operation\": \"W05Z5 - Reactor-358\", \"MachineId\": 0, \"ConsumptionRate\": 0.8, \"Expired\": 0}, {\"Machine\": \"Reactor-358\", \"MIN\": \"W05Z5\", \"JobId\": 122, \"TaskId\": 3, \"Start\": \"2023-05-18T02:00:00\", \"End\": \"2023-05-18T06:00:00\", \"Activity\": \"W05Z5 - Reactor-358\", \"Operation\": \"W05Z5 - Reactor-358\", \"MachineId\": 0, \"ConsumptionRate\": 0.0, \"Expired\": 0}, {\"Machine\": \"Reactor-358\", \"MIN\": \"W05Z5\", \"JobId\": 122, \"TaskId\": \"DI Rinse - Long\", \"Start\": \"2023-05-18T06:00:00\", \"End\": \"2023-05-18T07:00:00\", \"Activity\": \"W05Z5 - Reactor-358\", \"Operation\": \"W05Z5-W05Z5-DI Rinse - Long\", \"MachineId\": 0, \"ConsumptionRate\": 0.0, \"Expired\": 0}, {\"Machine\": \"Reactor-358\", \"MIN\": \"W05Z5\", \"JobId\": 122, \"TaskId\": 5, \"Start\": \"2023-05-18T18:00:00\", \"End\": \"2023-05-18T22:00:00\", \"Activity\": \"W05Z5 - Reactor-358\", \"Operation\": \"W05Z5 - Reactor-358\", \"MachineId\": 0, \"ConsumptionRate\": 0.0, \"Expired\": 0}, {\"Machine\": \"Reactor-358\", \"MIN\": \"W05Z5\", \"JobId\": 122, \"TaskId\": 6, \"Start\": \"2023-05-18T22:00:00\", \"End\": \"2023-05-18T22:30:00\", \"Activity\": \"W05Z5 - Reactor-358\", \"Operation\": \"W05Z5 - Reactor-358\", \"MachineId\": 0, \"ConsumptionRate\": 0.06666666666666667, \"Expired\": 0}, {\"Machine\": \"Reactor-358\", \"MIN\": \"W05Z5\", \"JobId\": 122, \"TaskId\": 7, \"Start\": \"2023-05-18T22:30:00\", \"End\": \"2023-05-19T02:30:00\", \"Activity\": \"W05Z5 - Reactor-358\", \"Operation\": \"W05Z5 - Reactor-358\", \"MachineId\": 0, \"ConsumptionRate\": 0.8, \"Expired\": 0}, {\"Machine\": \"Reactor-358\", \"MIN\": \"W05Z5\", \"JobId\": 122, \"TaskId\": 8, \"Start\": \"2023-05-19T02:30:00\", \"End\": \"2023-05-19T06:30:00\", \"Activity\": \"W05Z5 - Reactor-358\", \"Operation\": \"W05Z5 - Reactor-358\", \"MachineId\": 0, \"ConsumptionRate\": 0.0, \"Expired\": 0}, {\"Machine\": \"Reactor-358\", \"MIN\": \"W05Z5\", \"JobId\": 122, \"TaskId\": \"DI Rinse - Long\", \"Start\": \"2023-05-19T06:30:00\", \"End\": \"2023-05-19T07:30:00\", \"Activity\": \"W05Z5 - Reactor-358\", \"Operation\": \"W05Z5-W05Z5-DI Rinse - Long\", \"MachineId\": 0, \"ConsumptionRate\": 0.0, \"Expired\": 0}, {\"Machine\": \"Reactor-358\", \"MIN\": \"W05Z5\", \"JobId\": 122, \"TaskId\": 10, \"Start\": \"2023-05-19T18:30:00\", \"End\": \"2023-05-19T22:30:00\", \"Activity\": \"W05Z5 - Reactor-358\", \"Operation\": \"W05Z5 - Reactor-358\", \"MachineId\": 0, \"ConsumptionRate\": 0.0, \"Expired\": 0}, {\"Machine\": \"Reactor-358\", \"MIN\": \"W05Z5\", \"JobId\": 122, \"TaskId\": 11, \"Start\": \"2023-05-19T22:30:00\", \"End\": \"2023-05-19T23:00:00\", \"Activity\": \"W05Z5 - Reactor-358\", \"Operation\": \"W05Z5 - Reactor-358\", \"MachineId\": 0, \"ConsumptionRate\": 0.06666666666666667, \"Expired\": 0}, {\"Machine\": \"Reactor-358\", \"MIN\": \"W05Z5\", \"JobId\": 122, \"TaskId\": 12, \"Start\": \"2023-05-19T23:00:00\", \"End\": \"2023-05-20T03:00:00\", \"Activity\": \"W05Z5 - Reactor-358\", \"Operation\": \"W05Z5 - Reactor-358\", \"MachineId\": 0, \"ConsumptionRate\": 0.8, \"Expired\": 0}, {\"Machine\": \"Reactor-358\", \"MIN\": \"W05Z5\", \"JobId\": 122, \"TaskId\": 13, \"Start\": \"2023-05-20T03:00:00\", \"End\": \"2023-05-20T07:00:00\", \"Activity\": \"W05Z5 - Reactor-358\", \"Operation\": \"W05Z5 - Reactor-358\", \"MachineId\": 0, \"ConsumptionRate\": 0.0, \"Expired\": 0}, {\"Machine\": \"Reactor-358\", \"MIN\": \"W05Z5\", \"JobId\": 122, \"TaskId\": \"DI Rinse - Long\", \"Start\": \"2023-05-20T07:00:00\", \"End\": \"2023-05-20T08:00:00\", \"Activity\": \"W05Z5 - Reactor-358\", \"Operation\": \"W05Z5-W05Z5-DI Rinse - Long\", \"MachineId\": 0, \"ConsumptionRate\": 0.0, \"Expired\": 0}, {\"Machine\": \"Reactor-358\", \"MIN\": \"W05Z5\", \"JobId\": 132, \"TaskId\": 0, \"Start\": \"2023-05-20T08:00:00\", \"End\": \"2023-05-20T12:00:00\", \"Activity\": \"W05Z5 - Reactor-358\", \"Operation\": \"W05Z5 - Reactor-358\", \"MachineId\": 0, \"ConsumptionRate\": 0.0, \"Expired\": 0}, {\"Machine\": \"Reactor-358\", \"MIN\": \"W05Z5\", \"JobId\": 132, \"TaskId\": 1, \"Start\": \"2023-05-20T12:00:00\", \"End\": \"2023-05-20T12:30:00\", \"Activity\": \"W05Z5 - Reactor-358\", \"Operation\": \"W05Z5 - Reactor-358\", \"MachineId\": 0, \"ConsumptionRate\": 0.06666666666666667, \"Expired\": 0}, {\"Machine\": \"Reactor-358\", \"MIN\": \"W05Z5\", \"JobId\": 132, \"TaskId\": 2, \"Start\": \"2023-05-20T12:30:00\", \"End\": \"2023-05-20T16:30:00\", \"Activity\": \"W05Z5 - Reactor-358\", \"Operation\": \"W05Z5 - Reactor-358\", \"MachineId\": 0, \"ConsumptionRate\": 0.8, \"Expired\": 0}, {\"Machine\": \"Reactor-358\", \"MIN\": \"W05Z5\", \"JobId\": 132, \"TaskId\": 3, \"Start\": \"2023-05-20T16:30:00\", \"End\": \"2023-05-20T20:30:00\", \"Activity\": \"W05Z5 - Reactor-358\", \"Operation\": \"W05Z5 - Reactor-358\", \"MachineId\": 0, \"ConsumptionRate\": 0.0, \"Expired\": 0}, {\"Machine\": \"Reactor-358\", \"MIN\": \"W05Z5\", \"JobId\": 132, \"TaskId\": \"DI Rinse - Long\", \"Start\": \"2023-05-20T20:30:00\", \"End\": \"2023-05-20T21:30:00\", \"Activity\": \"W05Z5 - Reactor-358\", \"Operation\": \"W05Z5-W05Z5-DI Rinse - Long\", \"MachineId\": 0, \"ConsumptionRate\": 0.0, \"Expired\": 0}, {\"Machine\": \"Reactor-358\", \"MIN\": \"W05Z5\", \"JobId\": 132, \"TaskId\": 5, \"Start\": \"2023-05-21T08:30:00\", \"End\": \"2023-05-21T12:30:00\", \"Activity\": \"W05Z5 - Reactor-358\", \"Operation\": \"W05Z5 - Reactor-358\", \"MachineId\": 0, \"ConsumptionRate\": 0.0, \"Expired\": 0}, {\"Machine\": \"Reactor-358\", \"MIN\": \"W05Z5\", \"JobId\": 132, \"TaskId\": 6, \"Start\": \"2023-05-21T12:30:00\", \"End\": \"2023-05-21T13:00:00\", \"Activity\": \"W05Z5 - Reactor-358\", \"Operation\": \"W05Z5 - Reactor-358\", \"MachineId\": 0, \"ConsumptionRate\": 0.06666666666666667, \"Expired\": 0}, {\"Machine\": \"Reactor-358\", \"MIN\": \"W05Z5\", \"JobId\": 132, \"TaskId\": 7, \"Start\": \"2023-05-21T13:00:00\", \"End\": \"2023-05-21T17:00:00\", \"Activity\": \"W05Z5 - Reactor-358\", \"Operation\": \"W05Z5 - Reactor-358\", \"MachineId\": 0, \"ConsumptionRate\": 0.8, \"Expired\": 0}, {\"Machine\": \"Reactor-358\", \"MIN\": \"W05Z5\", \"JobId\": 132, \"TaskId\": 8, \"Start\": \"2023-05-21T17:00:00\", \"End\": \"2023-05-21T21:00:00\", \"Activity\": \"W05Z5 - Reactor-358\", \"Operation\": \"W05Z5 - Reactor-358\", \"MachineId\": 0, \"ConsumptionRate\": 0.0, \"Expired\": 0}, {\"Machine\": \"Reactor-358\", \"MIN\": \"W05Z5\", \"JobId\": 132, \"TaskId\": \"DI Rinse - Long\", \"Start\": \"2023-05-21T21:00:00\", \"End\": \"2023-05-21T22:00:00\", \"Activity\": \"W05Z5 - Reactor-358\", \"Operation\": \"W05Z5-W05Z5-DI Rinse - Long\", \"MachineId\": 0, \"ConsumptionRate\": 0.0, \"Expired\": 0}, {\"Machine\": \"Reactor-358\", \"MIN\": \"W05Z5\", \"JobId\": 132, \"TaskId\": 10, \"Start\": \"2023-05-22T09:00:00\", \"End\": \"2023-05-22T13:00:00\", \"Activity\": \"W05Z5 - Reactor-358\", \"Operation\": \"W05Z5 - Reactor-358\", \"MachineId\": 0, \"ConsumptionRate\": 0.0, \"Expired\": 0}, {\"Machine\": \"Reactor-358\", \"MIN\": \"W05Z5\", \"JobId\": 132, \"TaskId\": 11, \"Start\": \"2023-05-22T13:00:00\", \"End\": \"2023-05-22T13:30:00\", \"Activity\": \"W05Z5 - Reactor-358\", \"Operation\": \"W05Z5 - Reactor-358\", \"MachineId\": 0, \"ConsumptionRate\": 0.06666666666666667, \"Expired\": 0}, {\"Machine\": \"Reactor-358\", \"MIN\": \"W05Z5\", \"JobId\": 132, \"TaskId\": 12, \"Start\": \"2023-05-22T13:30:00\", \"End\": \"2023-05-22T17:30:00\", \"Activity\": \"W05Z5 - Reactor-358\", \"Operation\": \"W05Z5 - Reactor-358\", \"MachineId\": 0, \"ConsumptionRate\": 0.8, \"Expired\": 0}, {\"Machine\": \"Reactor-358\", \"MIN\": \"W05Z5\", \"JobId\": 132, \"TaskId\": 13, \"Start\": \"2023-05-22T17:30:00\", \"End\": \"2023-05-22T21:30:00\", \"Activity\": \"W05Z5 - Reactor-358\", \"Operation\": \"W05Z5 - Reactor-358\", \"MachineId\": 0, \"ConsumptionRate\": 0.0, \"Expired\": 0}, {\"Machine\": \"Reactor-358\", \"MIN\": \"W05Z5\", \"JobId\": 132, \"TaskId\": \"DI Rinse - Long\", \"Start\": \"2023-05-22T21:30:00\", \"End\": \"2023-05-22T22:30:00\", \"Activity\": \"W05Z5 - Reactor-358\", \"Operation\": \"W05Z5-W05Z5-DI Rinse - Long\", \"MachineId\": 0, \"ConsumptionRate\": 0.0, \"Expired\": 0}, {\"Machine\": \"Reactor-358\", \"MIN\": \"W05Z5\", \"JobId\": 142, \"TaskId\": 0, \"Start\": \"2023-05-22T22:30:00\", \"End\": \"2023-05-23T02:30:00\", \"Activity\": \"W05Z5 - Reactor-358\", \"Operation\": \"W05Z5 - Reactor-358\", \"MachineId\": 0, \"ConsumptionRate\": 0.0, \"Expired\": 0}, {\"Machine\": \"Reactor-358\", \"MIN\": \"W05Z5\", \"JobId\": 142, \"TaskId\": 1, \"Start\": \"2023-05-23T02:30:00\", \"End\": \"2023-05-23T03:00:00\", \"Activity\": \"W05Z5 - Reactor-358\", \"Operation\": \"W05Z5 - Reactor-358\", \"MachineId\": 0, \"ConsumptionRate\": 0.06666666666666667, \"Expired\": 0}, {\"Machine\": \"Reactor-358\", \"MIN\": \"W05Z5\", \"JobId\": 142, \"TaskId\": 2, \"Start\": \"2023-05-23T03:00:00\", \"End\": \"2023-05-23T07:00:00\", \"Activity\": \"W05Z5 - Reactor-358\", \"Operation\": \"W05Z5 - Reactor-358\", \"MachineId\": 0, \"ConsumptionRate\": 0.8, \"Expired\": 0}, {\"Machine\": \"Reactor-358\", \"MIN\": \"W05Z5\", \"JobId\": 142, \"TaskId\": 3, \"Start\": \"2023-05-23T07:00:00\", \"End\": \"2023-05-23T11:00:00\", \"Activity\": \"W05Z5 - Reactor-358\", \"Operation\": \"W05Z5 - Reactor-358\", \"MachineId\": 0, \"ConsumptionRate\": 0.0, \"Expired\": 0}, {\"Machine\": \"Reactor-358\", \"MIN\": \"W05Z5\", \"JobId\": 142, \"TaskId\": \"DI Rinse - Long\", \"Start\": \"2023-05-23T11:00:00\", \"End\": \"2023-05-23T12:00:00\", \"Activity\": \"W05Z5 - Reactor-358\", \"Operation\": \"W05Z5-W05Z5-DI Rinse - Long\", \"MachineId\": 0, \"ConsumptionRate\": 0.0, \"Expired\": 0}, {\"Machine\": \"Reactor-358\", \"MIN\": \"W05Z5\", \"JobId\": 142, \"TaskId\": 5, \"Start\": \"2023-05-23T23:00:00\", \"End\": \"2023-05-24T03:00:00\", \"Activity\": \"W05Z5 - Reactor-358\", \"Operation\": \"W05Z5 - Reactor-358\", \"MachineId\": 0, \"ConsumptionRate\": 0.0, \"Expired\": 0}, {\"Machine\": \"Reactor-358\", \"MIN\": \"W05Z5\", \"JobId\": 142, \"TaskId\": 6, \"Start\": \"2023-05-24T03:00:00\", \"End\": \"2023-05-24T03:30:00\", \"Activity\": \"W05Z5 - Reactor-358\", \"Operation\": \"W05Z5 - Reactor-358\", \"MachineId\": 0, \"ConsumptionRate\": 0.06666666666666667, \"Expired\": 0}, {\"Machine\": \"Reactor-358\", \"MIN\": \"W05Z5\", \"JobId\": 142, \"TaskId\": 7, \"Start\": \"2023-05-24T03:30:00\", \"End\": \"2023-05-24T07:30:00\", \"Activity\": \"W05Z5 - Reactor-358\", \"Operation\": \"W05Z5 - Reactor-358\", \"MachineId\": 0, \"ConsumptionRate\": 0.8, \"Expired\": 0}, {\"Machine\": \"Reactor-358\", \"MIN\": \"W05Z5\", \"JobId\": 142, \"TaskId\": 8, \"Start\": \"2023-05-24T07:30:00\", \"End\": \"2023-05-24T11:30:00\", \"Activity\": \"W05Z5 - Reactor-358\", \"Operation\": \"W05Z5 - Reactor-358\", \"MachineId\": 0, \"ConsumptionRate\": 0.0, \"Expired\": 0}, {\"Machine\": \"Reactor-358\", \"MIN\": \"W05Z5\", \"JobId\": 142, \"TaskId\": \"DI Rinse - Long\", \"Start\": \"2023-05-24T11:30:00\", \"End\": \"2023-05-24T12:30:00\", \"Activity\": \"W05Z5 - Reactor-358\", \"Operation\": \"W05Z5-W05Z5-DI Rinse - Long\", \"MachineId\": 0, \"ConsumptionRate\": 0.0, \"Expired\": 0}, {\"Machine\": \"Reactor-358\", \"MIN\": \"W05Z5\", \"JobId\": 142, \"TaskId\": 10, \"Start\": \"2023-05-24T23:30:00\", \"End\": \"2023-05-25T03:30:00\", \"Activity\": \"W05Z5 - Reactor-358\", \"Operation\": \"W05Z5 - Reactor-358\", \"MachineId\": 0, \"ConsumptionRate\": 0.0, \"Expired\": 0}, {\"Machine\": \"Reactor-358\", \"MIN\": \"W05Z5\", \"JobId\": 142, \"TaskId\": 11, \"Start\": \"2023-05-25T03:30:00\", \"End\": \"2023-05-25T04:00:00\", \"Activity\": \"W05Z5 - Reactor-358\", \"Operation\": \"W05Z5 - Reactor-358\", \"MachineId\": 0, \"ConsumptionRate\": 0.06666666666666667, \"Expired\": 0}, {\"Machine\": \"Reactor-358\", \"MIN\": \"W05Z5\", \"JobId\": 142, \"TaskId\": 12, \"Start\": \"2023-05-25T04:00:00\", \"End\": \"2023-05-25T08:00:00\", \"Activity\": \"W05Z5 - Reactor-358\", \"Operation\": \"W05Z5 - Reactor-358\", \"MachineId\": 0, \"ConsumptionRate\": 0.8, \"Expired\": 0}, {\"Machine\": \"Reactor-358\", \"MIN\": \"W05Z5\", \"JobId\": 142, \"TaskId\": 13, \"Start\": \"2023-05-25T08:00:00\", \"End\": \"2023-05-25T12:00:00\", \"Activity\": \"W05Z5 - Reactor-358\", \"Operation\": \"W05Z5 - Reactor-358\", \"MachineId\": 0, \"ConsumptionRate\": 0.0, \"Expired\": 0}, {\"Machine\": \"Reactor-358\", \"MIN\": \"W05Z5\", \"JobId\": 142, \"TaskId\": \"DI Rinse - Long\", \"Start\": \"2023-05-25T12:00:00\", \"End\": \"2023-05-25T13:00:00\", \"Activity\": \"W05Z5 - Reactor-358\", \"Operation\": \"W05Z5-W05Z5-DI Rinse - Long\", \"MachineId\": 0, \"ConsumptionRate\": 0.0, \"Expired\": 0}, {\"Machine\": \"Reactor-358\", \"MIN\": \"D07D2\", \"JobId\": 112, \"TaskId\": 0, \"Start\": \"2023-05-25T13:30:00\", \"End\": \"2023-05-25T16:30:00\", \"Activity\": \"D07D2 - Reactor-358\", \"Operation\": \"D07D2 - Reactor-358\", \"MachineId\": 0, \"ConsumptionRate\": 0.0, \"Expired\": 0}, {\"Machine\": \"Reactor-358\", \"MIN\": \"D07D2\", \"JobId\": 112, \"TaskId\": 1, \"Start\": \"2023-05-25T16:30:00\", \"End\": \"2023-05-25T17:00:00\", \"Activity\": \"D07D2 - Reactor-358\", \"Operation\": \"D07D2 - Reactor-358\", \"MachineId\": 0, \"ConsumptionRate\": 0.3333333333333333, \"Expired\": 0}, {\"Machine\": \"Reactor-358\", \"MIN\": \"D07D2\", \"JobId\": 112, \"TaskId\": 2, \"Start\": \"2023-05-25T17:00:00\", \"End\": \"2023-05-25T21:00:00\", \"Activity\": \"D07D2 - Reactor-358\", \"Operation\": \"D07D2 - Reactor-358\", \"MachineId\": 0, \"ConsumptionRate\": 0.8, \"Expired\": 0}, {\"Machine\": \"Reactor-358\", \"MIN\": \"D07D2\", \"JobId\": 112, \"TaskId\": 3, \"Start\": \"2023-05-25T21:00:00\", \"End\": \"2023-05-26T00:00:00\", \"Activity\": \"D07D2 - Reactor-358\", \"Operation\": \"D07D2 - Reactor-358\", \"MachineId\": 0, \"ConsumptionRate\": 0.0, \"Expired\": 0}, {\"Machine\": \"Reactor-358\", \"MIN\": \"D07D2\", \"JobId\": 112, \"TaskId\": \"DI Rinse\", \"Start\": \"2023-05-26T00:00:00\", \"End\": \"2023-05-26T00:30:00\", \"Activity\": \"D07D2 - Reactor-358\", \"Operation\": \"D07D2-D07D2-DI Rinse\", \"MachineId\": 0, \"ConsumptionRate\": 0.0, \"Expired\": 0}, {\"Machine\": \"Reactor-358\", \"MIN\": \"D07D2\", \"JobId\": 112, \"TaskId\": 5, \"Start\": \"2023-05-26T08:00:00\", \"End\": \"2023-05-26T11:00:00\", \"Activity\": \"D07D2 - Reactor-358\", \"Operation\": \"D07D2 - Reactor-358\", \"MachineId\": 0, \"ConsumptionRate\": 0.0, \"Expired\": 0}, {\"Machine\": \"Reactor-358\", \"MIN\": \"D07D2\", \"JobId\": 112, \"TaskId\": 6, \"Start\": \"2023-05-26T11:00:00\", \"End\": \"2023-05-26T11:30:00\", \"Activity\": \"D07D2 - Reactor-358\", \"Operation\": \"D07D2 - Reactor-358\", \"MachineId\": 0, \"ConsumptionRate\": 0.3333333333333333, \"Expired\": 0}, {\"Machine\": \"Reactor-358\", \"MIN\": \"D07D2\", \"JobId\": 112, \"TaskId\": 7, \"Start\": \"2023-05-26T11:30:00\", \"End\": \"2023-05-26T15:30:00\", \"Activity\": \"D07D2 - Reactor-358\", \"Operation\": \"D07D2 - Reactor-358\", \"MachineId\": 0, \"ConsumptionRate\": 0.8, \"Expired\": 0}, {\"Machine\": \"Reactor-358\", \"MIN\": \"D07D2\", \"JobId\": 112, \"TaskId\": 8, \"Start\": \"2023-05-26T15:30:00\", \"End\": \"2023-05-26T18:30:00\", \"Activity\": \"D07D2 - Reactor-358\", \"Operation\": \"D07D2 - Reactor-358\", \"MachineId\": 0, \"ConsumptionRate\": 0.0, \"Expired\": 0}, {\"Machine\": \"Reactor-358\", \"MIN\": \"D07D2\", \"JobId\": 112, \"TaskId\": \"DI Rinse\", \"Start\": \"2023-05-26T18:30:00\", \"End\": \"2023-05-26T19:00:00\", \"Activity\": \"D07D2 - Reactor-358\", \"Operation\": \"D07D2-D07D2-DI Rinse\", \"MachineId\": 0, \"ConsumptionRate\": 0.0, \"Expired\": 0}, {\"Machine\": \"Reactor-358\", \"MIN\": \"D07D2\", \"JobId\": 112, \"TaskId\": 10, \"Start\": \"2023-05-27T02:30:00\", \"End\": \"2023-05-27T05:30:00\", \"Activity\": \"D07D2 - Reactor-358\", \"Operation\": \"D07D2 - Reactor-358\", \"MachineId\": 0, \"ConsumptionRate\": 0.0, \"Expired\": 0}, {\"Machine\": \"Reactor-358\", \"MIN\": \"D07D2\", \"JobId\": 112, \"TaskId\": 11, \"Start\": \"2023-05-27T05:30:00\", \"End\": \"2023-05-27T06:00:00\", \"Activity\": \"D07D2 - Reactor-358\", \"Operation\": \"D07D2 - Reactor-358\", \"MachineId\": 0, \"ConsumptionRate\": 0.3333333333333333, \"Expired\": 0}, {\"Machine\": \"Reactor-358\", \"MIN\": \"D07D2\", \"JobId\": 112, \"TaskId\": 12, \"Start\": \"2023-05-27T06:00:00\", \"End\": \"2023-05-27T10:00:00\", \"Activity\": \"D07D2 - Reactor-358\", \"Operation\": \"D07D2 - Reactor-358\", \"MachineId\": 0, \"ConsumptionRate\": 0.8, \"Expired\": 0}, {\"Machine\": \"Reactor-358\", \"MIN\": \"D07D2\", \"JobId\": 112, \"TaskId\": 13, \"Start\": \"2023-05-27T10:00:00\", \"End\": \"2023-05-27T13:00:00\", \"Activity\": \"D07D2 - Reactor-358\", \"Operation\": \"D07D2 - Reactor-358\", \"MachineId\": 0, \"ConsumptionRate\": 0.0, \"Expired\": 0}, {\"Machine\": \"Reactor-358\", \"MIN\": \"D07D2\", \"JobId\": 112, \"TaskId\": \"DI Rinse\", \"Start\": \"2023-05-27T13:00:00\", \"End\": \"2023-05-27T13:30:00\", \"Activity\": \"D07D2 - Reactor-358\", \"Operation\": \"D07D2-D07D2-DI Rinse\", \"MachineId\": 0, \"ConsumptionRate\": 0.0, \"Expired\": 0}, {\"Machine\": \"Reactor-358\", \"MIN\": \"M09C2\", \"JobId\": 78, \"TaskId\": 0, \"Start\": \"2023-05-27T13:30:00\", \"End\": \"2023-05-27T15:30:00\", \"Activity\": \"M09C2 - Reactor-358\", \"Operation\": \"M09C2 - Reactor-358\", \"MachineId\": 0, \"ConsumptionRate\": 0.0, \"Expired\": 0}, {\"Machine\": \"Reactor-358\", \"MIN\": \"M09C2\", \"JobId\": 78, \"TaskId\": 1, \"Start\": \"2023-05-27T15:30:00\", \"End\": \"2023-05-27T16:00:00\", \"Activity\": \"M09C2 - Reactor-358\", \"Operation\": \"M09C2 - Reactor-358\", \"MachineId\": 0, \"ConsumptionRate\": 0.3333333333333333, \"Expired\": 0}, {\"Machine\": \"Reactor-358\", \"MIN\": \"M09C2\", \"JobId\": 78, \"TaskId\": 2, \"Start\": \"2023-05-27T16:00:00\", \"End\": \"2023-05-27T20:00:00\", \"Activity\": \"M09C2 - Reactor-358\", \"Operation\": \"M09C2 - Reactor-358\", \"MachineId\": 0, \"ConsumptionRate\": 0.8, \"Expired\": 0}, {\"Machine\": \"Reactor-358\", \"MIN\": \"M09C2\", \"JobId\": 78, \"TaskId\": 3, \"Start\": \"2023-05-27T20:00:00\", \"End\": \"2023-05-27T22:00:00\", \"Activity\": \"M09C2 - Reactor-358\", \"Operation\": \"M09C2 - Reactor-358\", \"MachineId\": 0, \"ConsumptionRate\": 0.0, \"Expired\": 0}, {\"Machine\": \"Reactor-358\", \"MIN\": \"M09C2\", \"JobId\": 78, \"TaskId\": \"DI Rinse\", \"Start\": \"2023-05-27T22:00:00\", \"End\": \"2023-05-27T22:30:00\", \"Activity\": \"M09C2 - Reactor-358\", \"Operation\": \"M09C2-M09C2-DI Rinse\", \"MachineId\": 0, \"ConsumptionRate\": 0.0, \"Expired\": 0}, {\"Machine\": \"DI Pass\", \"MIN\": \"K05B8\", \"JobId\": 42, \"TaskId\": 12, \"Start\": \"2023-05-14T07:45:00\", \"End\": \"2023-05-14T11:45:00\", \"Activity\": \"K05B8 - DI Pass\", \"Operation\": \"K05B8 - DI Pass\", \"MachineId\": 2, \"ConsumptionRate\": 0.0, \"Expired\": 0}, {\"Machine\": \"DI Pass\", \"MIN\": \"K05B8\", \"JobId\": 52, \"TaskId\": 12, \"Start\": \"2023-05-16T01:00:00\", \"End\": \"2023-05-16T05:00:00\", \"Activity\": \"K05B8 - DI Pass\", \"Operation\": \"K05B8 - DI Pass\", \"MachineId\": 2, \"ConsumptionRate\": 0.0, \"Expired\": 0}, {\"Machine\": \"Post Adjust\", \"MIN\": \"J07B1\", \"JobId\": 82, \"TaskId\": 15, \"Start\": \"2023-05-03T01:30:00\", \"End\": \"2023-05-03T04:30:00\", \"Activity\": \"J07B1 - Post Adjust\", \"Operation\": \"J07B1 - Post Adjust\", \"MachineId\": 3, \"ConsumptionRate\": 0.0, \"Expired\": 0}, {\"Machine\": \"Post Adjust\", \"MIN\": \"A09B4\", \"JobId\": 0, \"TaskId\": 10, \"Start\": \"2023-05-04T02:00:00\", \"End\": \"2023-05-04T04:00:00\", \"Activity\": \"A09B4 - Post Adjust\", \"Operation\": \"A09B4 - Post Adjust\", \"MachineId\": 3, \"ConsumptionRate\": 0.0, \"Expired\": 0}, {\"Machine\": \"Post Adjust\", \"MIN\": \"J07B1\", \"JobId\": 92, \"TaskId\": 15, \"Start\": \"2023-05-05T20:00:00\", \"End\": \"2023-05-05T23:00:00\", \"Activity\": \"J07B1 - Post Adjust\", \"Operation\": \"J07B1 - Post Adjust\", \"MachineId\": 3, \"ConsumptionRate\": 0.0, \"Expired\": 0}, {\"Machine\": \"Post Adjust\", \"MIN\": \"A09B4\", \"JobId\": 7, \"TaskId\": 10, \"Start\": \"2023-05-06T20:30:00\", \"End\": \"2023-05-06T22:30:00\", \"Activity\": \"A09B4 - Post Adjust\", \"Operation\": \"A09B4 - Post Adjust\", \"MachineId\": 3, \"ConsumptionRate\": 0.0, \"Expired\": 0}, {\"Machine\": \"Post Adjust\", \"MIN\": \"A09B4\", \"JobId\": 14, \"TaskId\": 10, \"Start\": \"2023-05-07T22:00:00\", \"End\": \"2023-05-08T00:00:00\", \"Activity\": \"A09B4 - Post Adjust\", \"Operation\": \"A09B4 - Post Adjust\", \"MachineId\": 3, \"ConsumptionRate\": 0.0, \"Expired\": 0}, {\"Machine\": \"Post Adjust\", \"MIN\": \"A09B4\", \"JobId\": 21, \"TaskId\": 10, \"Start\": \"2023-05-08T23:30:00\", \"End\": \"2023-05-09T01:30:00\", \"Activity\": \"A09B4 - Post Adjust\", \"Operation\": \"A09B4 - Post Adjust\", \"MachineId\": 3, \"ConsumptionRate\": 0.0, \"Expired\": 0}, {\"Machine\": \"Post Adjust\", \"MIN\": \"A09B4\", \"JobId\": 28, \"TaskId\": 10, \"Start\": \"2023-05-10T01:00:00\", \"End\": \"2023-05-10T03:00:00\", \"Activity\": \"A09B4 - Post Adjust\", \"Operation\": \"A09B4 - Post Adjust\", \"MachineId\": 3, \"ConsumptionRate\": 0.0, \"Expired\": 0}, {\"Machine\": \"Post Adjust\", \"MIN\": \"A09B4\", \"JobId\": 35, \"TaskId\": 10, \"Start\": \"2023-05-11T02:30:00\", \"End\": \"2023-05-11T04:30:00\", \"Activity\": \"A09B4 - Post Adjust\", \"Operation\": \"A09B4 - Post Adjust\", \"MachineId\": 3, \"ConsumptionRate\": 0.0, \"Expired\": 0}, {\"Machine\": \"Reactor-368\", \"MIN\": \"M07A5\", \"JobId\": 152, \"TaskId\": 0, \"Start\": \"2023-05-01T00:00:00\", \"End\": \"2023-05-01T00:30:00\", \"Activity\": \"M07A5 - Reactor-368\", \"Operation\": \"M07A5 - Reactor-368\", \"MachineId\": 5, \"ConsumptionRate\": 0.06666666666666667, \"Expired\": 0}, {\"Machine\": \"Reactor-368\", \"MIN\": \"M07A5\", \"JobId\": 152, \"TaskId\": 1, \"Start\": \"2023-05-01T00:30:00\", \"End\": \"2023-05-02T16:00:00\", \"Activity\": \"M07A5 - Reactor-368\", \"Operation\": \"M07A5 - Reactor-368\", \"MachineId\": 5, \"ConsumptionRate\": 0.4, \"Expired\": 0}, {\"Machine\": \"Reactor-368\", \"MIN\": \"M07A5\", \"JobId\": 152, \"TaskId\": \"KOH Wash\", \"Start\": \"2023-05-02T16:00:00\", \"End\": \"2023-05-03T01:30:00\", \"Activity\": \"M07A5 - Reactor-368\", \"Operation\": \"M07A5-M07A5-KOH Wash\", \"MachineId\": 5, \"ConsumptionRate\": 0.0, \"Expired\": 0}, {\"Machine\": \"Reactor-368\", \"MIN\": \"M07A5\", \"JobId\": 160, \"TaskId\": 0, \"Start\": \"2023-05-03T01:30:00\", \"End\": \"2023-05-03T02:00:00\", \"Activity\": \"M07A5 - Reactor-368\", \"Operation\": \"M07A5 - Reactor-368\", \"MachineId\": 5, \"ConsumptionRate\": 0.06666666666666667, \"Expired\": 0}, {\"Machine\": \"Reactor-368\", \"MIN\": \"M07A5\", \"JobId\": 160, \"TaskId\": 1, \"Start\": \"2023-05-03T02:00:00\", \"End\": \"2023-05-04T17:30:00\", \"Activity\": \"M07A5 - Reactor-368\", \"Operation\": \"M07A5 - Reactor-368\", \"MachineId\": 5, \"ConsumptionRate\": 0.4, \"Expired\": 0}, {\"Machine\": \"Reactor-368\", \"MIN\": \"M07A5\", \"JobId\": 160, \"TaskId\": \"KOH Wash\", \"Start\": \"2023-05-04T17:30:00\", \"End\": \"2023-05-05T03:00:00\", \"Activity\": \"M07A5 - Reactor-368\", \"Operation\": \"M07A5-M07A5-KOH Wash\", \"MachineId\": 5, \"ConsumptionRate\": 0.0, \"Expired\": 0}, {\"Machine\": \"Reactor-368\", \"MIN\": \"M07A5\", \"JobId\": 168, \"TaskId\": 0, \"Start\": \"2023-05-05T03:00:00\", \"End\": \"2023-05-05T03:30:00\", \"Activity\": \"M07A5 - Reactor-368\", \"Operation\": \"M07A5 - Reactor-368\", \"MachineId\": 5, \"ConsumptionRate\": 0.06666666666666667, \"Expired\": 0}, {\"Machine\": \"Reactor-368\", \"MIN\": \"M07A5\", \"JobId\": 168, \"TaskId\": 1, \"Start\": \"2023-05-05T03:30:00\", \"End\": \"2023-05-06T19:00:00\", \"Activity\": \"M07A5 - Reactor-368\", \"Operation\": \"M07A5 - Reactor-368\", \"MachineId\": 5, \"ConsumptionRate\": 0.4, \"Expired\": 0}, {\"Machine\": \"Reactor-368\", \"MIN\": \"M07A5\", \"JobId\": 168, \"TaskId\": \"KOH Wash\", \"Start\": \"2023-05-06T19:00:00\", \"End\": \"2023-05-07T04:30:00\", \"Activity\": \"M07A5 - Reactor-368\", \"Operation\": \"M07A5-M07A5-KOH Wash\", \"MachineId\": 5, \"ConsumptionRate\": 0.0, \"Expired\": 0}, {\"Machine\": \"Reactor-368\", \"MIN\": \"M07A5\", \"JobId\": 176, \"TaskId\": 0, \"Start\": \"2023-05-07T04:30:00\", \"End\": \"2023-05-07T05:00:00\", \"Activity\": \"M07A5 - Reactor-368\", \"Operation\": \"M07A5 - Reactor-368\", \"MachineId\": 5, \"ConsumptionRate\": 0.06666666666666667, \"Expired\": 0}, {\"Machine\": \"Reactor-368\", \"MIN\": \"M07A5\", \"JobId\": 176, \"TaskId\": 1, \"Start\": \"2023-05-07T05:00:00\", \"End\": \"2023-05-08T20:30:00\", \"Activity\": \"M07A5 - Reactor-368\", \"Operation\": \"M07A5 - Reactor-368\", \"MachineId\": 5, \"ConsumptionRate\": 0.4, \"Expired\": 0}, {\"Machine\": \"Reactor-368\", \"MIN\": \"M07A5\", \"JobId\": 176, \"TaskId\": \"KOH Wash\", \"Start\": \"2023-05-08T20:30:00\", \"End\": \"2023-05-09T06:00:00\", \"Activity\": \"M07A5 - Reactor-368\", \"Operation\": \"M07A5-M07A5-KOH Wash\", \"MachineId\": 5, \"ConsumptionRate\": 0.0, \"Expired\": 0}, {\"Machine\": \"Reactor-368\", \"MIN\": \"M07A5\", \"JobId\": 184, \"TaskId\": 0, \"Start\": \"2023-05-09T06:00:00\", \"End\": \"2023-05-09T06:30:00\", \"Activity\": \"M07A5 - Reactor-368\", \"Operation\": \"M07A5 - Reactor-368\", \"MachineId\": 5, \"ConsumptionRate\": 0.06666666666666667, \"Expired\": 0}, {\"Machine\": \"Reactor-368\", \"MIN\": \"M07A5\", \"JobId\": 184, \"TaskId\": 1, \"Start\": \"2023-05-09T06:30:00\", \"End\": \"2023-05-10T22:00:00\", \"Activity\": \"M07A5 - Reactor-368\", \"Operation\": \"M07A5 - Reactor-368\", \"MachineId\": 5, \"ConsumptionRate\": 0.4, \"Expired\": 0}, {\"Machine\": \"Reactor-368\", \"MIN\": \"M07A5\", \"JobId\": 184, \"TaskId\": \"KOH Wash\", \"Start\": \"2023-05-10T22:00:00\", \"End\": \"2023-05-11T07:30:00\", \"Activity\": \"M07A5 - Reactor-368\", \"Operation\": \"M07A5-M07A5-KOH Wash\", \"MachineId\": 5, \"ConsumptionRate\": 0.0, \"Expired\": 0}, {\"Machine\": \"Reactor-368\", \"MIN\": \"M07A5\", \"JobId\": 192, \"TaskId\": 0, \"Start\": \"2023-05-11T07:30:00\", \"End\": \"2023-05-11T08:00:00\", \"Activity\": \"M07A5 - Reactor-368\", \"Operation\": \"M07A5 - Reactor-368\", \"MachineId\": 5, \"ConsumptionRate\": 0.06666666666666667, \"Expired\": 0}, {\"Machine\": \"Reactor-368\", \"MIN\": \"M07A5\", \"JobId\": 192, \"TaskId\": 1, \"Start\": \"2023-05-11T08:00:00\", \"End\": \"2023-05-12T23:30:00\", \"Activity\": \"M07A5 - Reactor-368\", \"Operation\": \"M07A5 - Reactor-368\", \"MachineId\": 5, \"ConsumptionRate\": 0.4, \"Expired\": 0}, {\"Machine\": \"Reactor-368\", \"MIN\": \"M07A5\", \"JobId\": 192, \"TaskId\": \"KOH Wash\", \"Start\": \"2023-05-12T23:30:00\", \"End\": \"2023-05-13T09:00:00\", \"Activity\": \"M07A5 - Reactor-368\", \"Operation\": \"M07A5-M07A5-KOH Wash\", \"MachineId\": 5, \"ConsumptionRate\": 0.0, \"Expired\": 0}, {\"Machine\": \"Reactor-368\", \"MIN\": \"M07A5\", \"JobId\": 200, \"TaskId\": 0, \"Start\": \"2023-05-13T09:00:00\", \"End\": \"2023-05-13T09:30:00\", \"Activity\": \"M07A5 - Reactor-368\", \"Operation\": \"M07A5 - Reactor-368\", \"MachineId\": 5, \"ConsumptionRate\": 0.06666666666666667, \"Expired\": 0}, {\"Machine\": \"Reactor-368\", \"MIN\": \"M07A5\", \"JobId\": 200, \"TaskId\": 1, \"Start\": \"2023-05-13T09:30:00\", \"End\": \"2023-05-15T01:00:00\", \"Activity\": \"M07A5 - Reactor-368\", \"Operation\": \"M07A5 - Reactor-368\", \"MachineId\": 5, \"ConsumptionRate\": 0.4, \"Expired\": 0}, {\"Machine\": \"Reactor-368\", \"MIN\": \"M07A5\", \"JobId\": 200, \"TaskId\": \"KOH Wash\", \"Start\": \"2023-05-15T01:00:00\", \"End\": \"2023-05-15T10:30:00\", \"Activity\": \"M07A5 - Reactor-368\", \"Operation\": \"M07A5-M07A5-KOH Wash\", \"MachineId\": 5, \"ConsumptionRate\": 0.0, \"Expired\": 0}, {\"Machine\": \"Reactor-368\", \"MIN\": \"M07A5\", \"JobId\": 208, \"TaskId\": 0, \"Start\": \"2023-05-15T10:30:00\", \"End\": \"2023-05-15T11:00:00\", \"Activity\": \"M07A5 - Reactor-368\", \"Operation\": \"M07A5 - Reactor-368\", \"MachineId\": 5, \"ConsumptionRate\": 0.06666666666666667, \"Expired\": 0}, {\"Machine\": \"Reactor-368\", \"MIN\": \"M07A5\", \"JobId\": 208, \"TaskId\": 1, \"Start\": \"2023-05-15T11:00:00\", \"End\": \"2023-05-17T02:30:00\", \"Activity\": \"M07A5 - Reactor-368\", \"Operation\": \"M07A5 - Reactor-368\", \"MachineId\": 5, \"ConsumptionRate\": 0.4, \"Expired\": 0}, {\"Machine\": \"Reactor-368\", \"MIN\": \"M07A5\", \"JobId\": 208, \"TaskId\": \"KOH Wash\", \"Start\": \"2023-05-17T02:30:00\", \"End\": \"2023-05-17T12:00:00\", \"Activity\": \"M07A5 - Reactor-368\", \"Operation\": \"M07A5-M07A5-KOH Wash\", \"MachineId\": 5, \"ConsumptionRate\": 0.0, \"Expired\": 0}, {\"Machine\": \"Reactor-368\", \"MIN\": \"M07A5\", \"JobId\": 216, \"TaskId\": 0, \"Start\": \"2023-05-17T12:00:00\", \"End\": \"2023-05-17T12:30:00\", \"Activity\": \"M07A5 - Reactor-368\", \"Operation\": \"M07A5 - Reactor-368\", \"MachineId\": 5, \"ConsumptionRate\": 0.06666666666666667, \"Expired\": 0}, {\"Machine\": \"Reactor-368\", \"MIN\": \"M07A5\", \"JobId\": 216, \"TaskId\": 1, \"Start\": \"2023-05-17T12:30:00\", \"End\": \"2023-05-19T04:00:00\", \"Activity\": \"M07A5 - Reactor-368\", \"Operation\": \"M07A5 - Reactor-368\", \"MachineId\": 5, \"ConsumptionRate\": 0.4, \"Expired\": 0}, {\"Machine\": \"Reactor-368\", \"MIN\": \"M07A5\", \"JobId\": 216, \"TaskId\": \"KOH Wash\", \"Start\": \"2023-05-19T04:00:00\", \"End\": \"2023-05-19T13:30:00\", \"Activity\": \"M07A5 - Reactor-368\", \"Operation\": \"M07A5-M07A5-KOH Wash\", \"MachineId\": 5, \"ConsumptionRate\": 0.0, \"Expired\": 0}, {\"Machine\": \"Reactor-368\", \"MIN\": \"M07A5\", \"JobId\": 224, \"TaskId\": 0, \"Start\": \"2023-05-19T13:30:00\", \"End\": \"2023-05-19T14:00:00\", \"Activity\": \"M07A5 - Reactor-368\", \"Operation\": \"M07A5 - Reactor-368\", \"MachineId\": 5, \"ConsumptionRate\": 0.06666666666666667, \"Expired\": 0}, {\"Machine\": \"Reactor-368\", \"MIN\": \"M07A5\", \"JobId\": 224, \"TaskId\": 1, \"Start\": \"2023-05-19T14:00:00\", \"End\": \"2023-05-21T05:30:00\", \"Activity\": \"M07A5 - Reactor-368\", \"Operation\": \"M07A5 - Reactor-368\", \"MachineId\": 5, \"ConsumptionRate\": 0.4, \"Expired\": 0}, {\"Machine\": \"Reactor-368\", \"MIN\": \"M07A5\", \"JobId\": 224, \"TaskId\": \"KOH Wash\", \"Start\": \"2023-05-21T05:30:00\", \"End\": \"2023-05-21T15:00:00\", \"Activity\": \"M07A5 - Reactor-368\", \"Operation\": \"M07A5-M07A5-KOH Wash\", \"MachineId\": 5, \"ConsumptionRate\": 0.0, \"Expired\": 0}, {\"Machine\": \"UF7\", \"MIN\": \"M07A5\", \"JobId\": 152, \"TaskId\": 2, \"Start\": \"2023-05-02T16:00:00\", \"End\": \"2023-05-03T04:00:00\", \"Activity\": \"M07A5 - UF7\", \"Operation\": \"M07A5 - UF7\", \"MachineId\": 6, \"ConsumptionRate\": 0.0, \"Expired\": 0}, {\"Machine\": \"UF7\", \"MIN\": \"M07A5\", \"JobId\": 160, \"TaskId\": 2, \"Start\": \"2023-05-04T17:30:00\", \"End\": \"2023-05-05T05:30:00\", \"Activity\": \"M07A5 - UF7\", \"Operation\": \"M07A5 - UF7\", \"MachineId\": 6, \"ConsumptionRate\": 0.0, \"Expired\": 0}, {\"Machine\": \"UF7\", \"MIN\": \"M07A5\", \"JobId\": 168, \"TaskId\": 2, \"Start\": \"2023-05-06T19:00:00\", \"End\": \"2023-05-07T07:00:00\", \"Activity\": \"M07A5 - UF7\", \"Operation\": \"M07A5 - UF7\", \"MachineId\": 6, \"ConsumptionRate\": 0.0, \"Expired\": 0}, {\"Machine\": \"UF7\", \"MIN\": \"M07A5\", \"JobId\": 176, \"TaskId\": 2, \"Start\": \"2023-05-08T20:30:00\", \"End\": \"2023-05-09T08:30:00\", \"Activity\": \"M07A5 - UF7\", \"Operation\": \"M07A5 - UF7\", \"MachineId\": 6, \"ConsumptionRate\": 0.0, \"Expired\": 0}, {\"Machine\": \"UF7\", \"MIN\": \"M07A5\", \"JobId\": 184, \"TaskId\": 2, \"Start\": \"2023-05-10T22:00:00\", \"End\": \"2023-05-11T10:00:00\", \"Activity\": \"M07A5 - UF7\", \"Operation\": \"M07A5 - UF7\", \"MachineId\": 6, \"ConsumptionRate\": 0.0, \"Expired\": 0}, {\"Machine\": \"UF7\", \"MIN\": \"M07A5\", \"JobId\": 192, \"TaskId\": 2, \"Start\": \"2023-05-12T23:30:00\", \"End\": \"2023-05-13T11:30:00\", \"Activity\": \"M07A5 - UF7\", \"Operation\": \"M07A5 - UF7\", \"MachineId\": 6, \"ConsumptionRate\": 0.0, \"Expired\": 0}, {\"Machine\": \"UF7\", \"MIN\": \"M07A5\", \"JobId\": 200, \"TaskId\": 2, \"Start\": \"2023-05-15T01:00:00\", \"End\": \"2023-05-15T13:00:00\", \"Activity\": \"M07A5 - UF7\", \"Operation\": \"M07A5 - UF7\", \"MachineId\": 6, \"ConsumptionRate\": 0.0, \"Expired\": 0}, {\"Machine\": \"UF7\", \"MIN\": \"M07A5\", \"JobId\": 208, \"TaskId\": 2, \"Start\": \"2023-05-17T02:30:00\", \"End\": \"2023-05-17T14:30:00\", \"Activity\": \"M07A5 - UF7\", \"Operation\": \"M07A5 - UF7\", \"MachineId\": 6, \"ConsumptionRate\": 0.0, \"Expired\": 0}, {\"Machine\": \"UF7\", \"MIN\": \"M07A5\", \"JobId\": 216, \"TaskId\": 2, \"Start\": \"2023-05-19T04:00:00\", \"End\": \"2023-05-19T16:00:00\", \"Activity\": \"M07A5 - UF7\", \"Operation\": \"M07A5 - UF7\", \"MachineId\": 6, \"ConsumptionRate\": 0.0, \"Expired\": 0}, {\"Machine\": \"UF7\", \"MIN\": \"M07A5\", \"JobId\": 224, \"TaskId\": 2, \"Start\": \"2023-05-21T05:30:00\", \"End\": \"2023-05-21T17:30:00\", \"Activity\": \"M07A5 - UF7\", \"Operation\": \"M07A5 - UF7\", \"MachineId\": 6, \"ConsumptionRate\": 0.0, \"Expired\": 0}, {\"Machine\": \"UF4\", \"MIN\": \"J07B1\", \"JobId\": 82, \"TaskId\": 4, \"Start\": \"2023-05-01T07:30:00\", \"End\": \"2023-05-01T16:30:00\", \"Activity\": \"J07B1 - UF4\", \"Operation\": \"J07B1 - UF4\", \"MachineId\": 7, \"ConsumptionRate\": 0.0, \"Expired\": 0}, {\"Machine\": \"UF4\", \"MIN\": \"J07B1\", \"JobId\": 82, \"TaskId\": 9, \"Start\": \"2023-05-02T00:00:00\", \"End\": \"2023-05-02T09:00:00\", \"Activity\": \"J07B1 - UF4\", \"Operation\": \"J07B1 - UF4\", \"MachineId\": 7, \"ConsumptionRate\": 0.0, \"Expired\": 0}, {\"Machine\": \"UF4\", \"MIN\": \"J07B1\", \"JobId\": 82, \"TaskId\": 14, \"Start\": \"2023-05-02T16:30:00\", \"End\": \"2023-05-03T01:30:00\", \"Activity\": \"J07B1 - UF4\", \"Operation\": \"J07B1 - UF4\", \"MachineId\": 7, \"ConsumptionRate\": 0.0, \"Expired\": 0}, {\"Machine\": \"UF4\", \"MIN\": \"A09B4\", \"JobId\": 0, \"TaskId\": 4, \"Start\": \"2023-05-03T01:30:00\", \"End\": \"2023-05-03T09:30:00\", \"Activity\": \"A09B4 - UF4\", \"Operation\": \"A09B4 - UF4\", \"MachineId\": 7, \"ConsumptionRate\": 0.0, \"Expired\": 0}, {\"Machine\": \"UF4\", \"MIN\": \"A09B4\", \"JobId\": 0, \"TaskId\": 9, \"Start\": \"2023-05-03T18:00:00\", \"End\": \"2023-05-04T02:00:00\", \"Activity\": \"A09B4 - UF4\", \"Operation\": \"A09B4 - UF4\", \"MachineId\": 7, \"ConsumptionRate\": 0.0, \"Expired\": 0}, {\"Machine\": \"UF4\", \"MIN\": \"J07B1\", \"JobId\": 92, \"TaskId\": 4, \"Start\": \"2023-05-04T02:00:00\", \"End\": \"2023-05-04T11:00:00\", \"Activity\": \"J07B1 - UF4\", \"Operation\": \"J07B1 - UF4\", \"MachineId\": 7, \"ConsumptionRate\": 0.0, \"Expired\": 0}, {\"Machine\": \"UF4\", \"MIN\": \"J07B1\", \"JobId\": 92, \"TaskId\": 9, \"Start\": \"2023-05-04T18:30:00\", \"End\": \"2023-05-05T03:30:00\", \"Activity\": \"J07B1 - UF4\", \"Operation\": \"J07B1 - UF4\", \"MachineId\": 7, \"ConsumptionRate\": 0.0, \"Expired\": 0}, {\"Machine\": \"UF4\", \"MIN\": \"J07B1\", \"JobId\": 92, \"TaskId\": 14, \"Start\": \"2023-05-05T11:00:00\", \"End\": \"2023-05-05T20:00:00\", \"Activity\": \"J07B1 - UF4\", \"Operation\": \"J07B1 - UF4\", \"MachineId\": 7, \"ConsumptionRate\": 0.0, \"Expired\": 0}, {\"Machine\": \"UF4\", \"MIN\": \"A09B4\", \"JobId\": 7, \"TaskId\": 4, \"Start\": \"2023-05-05T20:00:00\", \"End\": \"2023-05-06T04:00:00\", \"Activity\": \"A09B4 - UF4\", \"Operation\": \"A09B4 - UF4\", \"MachineId\": 7, \"ConsumptionRate\": 0.0, \"Expired\": 0}, {\"Machine\": \"UF4\", \"MIN\": \"A09B4\", \"JobId\": 7, \"TaskId\": 9, \"Start\": \"2023-05-06T12:30:00\", \"End\": \"2023-05-06T20:30:00\", \"Activity\": \"A09B4 - UF4\", \"Operation\": \"A09B4 - UF4\", \"MachineId\": 7, \"ConsumptionRate\": 0.0, \"Expired\": 0}, {\"Machine\": \"UF4\", \"MIN\": \"A09B4\", \"JobId\": 14, \"TaskId\": 4, \"Start\": \"2023-05-06T21:30:00\", \"End\": \"2023-05-07T05:30:00\", \"Activity\": \"A09B4 - UF4\", \"Operation\": \"A09B4 - UF4\", \"MachineId\": 7, \"ConsumptionRate\": 0.0, \"Expired\": 0}, {\"Machine\": \"UF4\", \"MIN\": \"A09B4\", \"JobId\": 14, \"TaskId\": 9, \"Start\": \"2023-05-07T14:00:00\", \"End\": \"2023-05-07T22:00:00\", \"Activity\": \"A09B4 - UF4\", \"Operation\": \"A09B4 - UF4\", \"MachineId\": 7, \"ConsumptionRate\": 0.0, \"Expired\": 0}, {\"Machine\": \"UF4\", \"MIN\": \"A09B4\", \"JobId\": 21, \"TaskId\": 4, \"Start\": \"2023-05-07T23:00:00\", \"End\": \"2023-05-08T07:00:00\", \"Activity\": \"A09B4 - UF4\", \"Operation\": \"A09B4 - UF4\", \"MachineId\": 7, \"ConsumptionRate\": 0.0, \"Expired\": 0}, {\"Machine\": \"UF4\", \"MIN\": \"A09B4\", \"JobId\": 21, \"TaskId\": 9, \"Start\": \"2023-05-08T15:30:00\", \"End\": \"2023-05-08T23:30:00\", \"Activity\": \"A09B4 - UF4\", \"Operation\": \"A09B4 - UF4\", \"MachineId\": 7, \"ConsumptionRate\": 0.0, \"Expired\": 0}, {\"Machine\": \"UF4\", \"MIN\": \"A09B4\", \"JobId\": 28, \"TaskId\": 4, \"Start\": \"2023-05-09T00:30:00\", \"End\": \"2023-05-09T08:30:00\", \"Activity\": \"A09B4 - UF4\", \"Operation\": \"A09B4 - UF4\", \"MachineId\": 7, \"ConsumptionRate\": 0.0, \"Expired\": 0}, {\"Machine\": \"UF4\", \"MIN\": \"A09B4\", \"JobId\": 28, \"TaskId\": 9, \"Start\": \"2023-05-09T17:00:00\", \"End\": \"2023-05-10T01:00:00\", \"Activity\": \"A09B4 - UF4\", \"Operation\": \"A09B4 - UF4\", \"MachineId\": 7, \"ConsumptionRate\": 0.0, \"Expired\": 0}, {\"Machine\": \"UF4\", \"MIN\": \"A09B4\", \"JobId\": 35, \"TaskId\": 4, \"Start\": \"2023-05-10T02:00:00\", \"End\": \"2023-05-10T10:00:00\", \"Activity\": \"A09B4 - UF4\", \"Operation\": \"A09B4 - UF4\", \"MachineId\": 7, \"ConsumptionRate\": 0.0, \"Expired\": 0}, {\"Machine\": \"UF4\", \"MIN\": \"A09B4\", \"JobId\": 35, \"TaskId\": 9, \"Start\": \"2023-05-10T18:30:00\", \"End\": \"2023-05-11T02:30:00\", \"Activity\": \"A09B4 - UF4\", \"Operation\": \"A09B4 - UF4\", \"MachineId\": 7, \"ConsumptionRate\": 0.0, \"Expired\": 0}, {\"Machine\": \"UF4\", \"MIN\": \"M09C2\", \"JobId\": 62, \"TaskId\": 4, \"Start\": \"2023-05-11T03:30:00\", \"End\": \"2023-05-11T08:30:00\", \"Activity\": \"M09C2 - UF4\", \"Operation\": \"M09C2 - UF4\", \"MachineId\": 7, \"ConsumptionRate\": 0.0, \"Expired\": 0}, {\"Machine\": \"UF4\", \"MIN\": \"M09C2\", \"JobId\": 66, \"TaskId\": 4, \"Start\": \"2023-05-11T12:30:00\", \"End\": \"2023-05-11T17:30:00\", \"Activity\": \"M09C2 - UF4\", \"Operation\": \"M09C2 - UF4\", \"MachineId\": 7, \"ConsumptionRate\": 0.0, \"Expired\": 0}, {\"Machine\": \"UF4\", \"MIN\": \"M09C2\", \"JobId\": 70, \"TaskId\": 4, \"Start\": \"2023-05-11T21:30:00\", \"End\": \"2023-05-12T02:30:00\", \"Activity\": \"M09C2 - UF4\", \"Operation\": \"M09C2 - UF4\", \"MachineId\": 7, \"ConsumptionRate\": 0.0, \"Expired\": 0}, {\"Machine\": \"UF4\", \"MIN\": \"M09C2\", \"JobId\": 74, \"TaskId\": 4, \"Start\": \"2023-05-12T06:30:00\", \"End\": \"2023-05-12T11:30:00\", \"Activity\": \"M09C2 - UF4\", \"Operation\": \"M09C2 - UF4\", \"MachineId\": 7, \"ConsumptionRate\": 0.0, \"Expired\": 0}, {\"Machine\": \"UF4\", \"MIN\": \"F05E5\", \"JobId\": 42, \"TaskId\": 3, \"Start\": \"2023-05-12T15:15:00\", \"End\": \"2023-05-12T23:15:00\", \"Activity\": \"F05E5 - UF4\", \"Operation\": \"F05E5 - UF4\", \"MachineId\": 7, \"ConsumptionRate\": 0.0, \"Expired\": 0}, {\"Machine\": \"UF4\", \"MIN\": \"F05E5\", \"JobId\": 42, \"TaskId\": 7, \"Start\": \"2023-05-13T07:30:00\", \"End\": \"2023-05-13T15:30:00\", \"Activity\": \"F05E5 - UF4\", \"Operation\": \"F05E5 - UF4\", \"MachineId\": 7, \"ConsumptionRate\": 0.0, \"Expired\": 0}, {\"Machine\": \"UF4\", \"MIN\": \"F05E5\", \"JobId\": 42, \"TaskId\": 11, \"Start\": \"2023-05-13T23:45:00\", \"End\": \"2023-05-14T07:45:00\", \"Activity\": \"F05E5 - UF4\", \"Operation\": \"F05E5 - UF4\", \"MachineId\": 7, \"ConsumptionRate\": 0.0, \"Expired\": 0}, {\"Machine\": \"UF4\", \"MIN\": \"F05E5\", \"JobId\": 52, \"TaskId\": 3, \"Start\": \"2023-05-14T08:30:00\", \"End\": \"2023-05-14T16:30:00\", \"Activity\": \"F05E5 - UF4\", \"Operation\": \"F05E5 - UF4\", \"MachineId\": 7, \"ConsumptionRate\": 0.0, \"Expired\": 0}, {\"Machine\": \"UF4\", \"MIN\": \"F05E5\", \"JobId\": 52, \"TaskId\": 7, \"Start\": \"2023-05-15T00:45:00\", \"End\": \"2023-05-15T08:45:00\", \"Activity\": \"F05E5 - UF4\", \"Operation\": \"F05E5 - UF4\", \"MachineId\": 7, \"ConsumptionRate\": 0.0, \"Expired\": 0}, {\"Machine\": \"UF4\", \"MIN\": \"F05E5\", \"JobId\": 52, \"TaskId\": 11, \"Start\": \"2023-05-15T17:00:00\", \"End\": \"2023-05-16T01:00:00\", \"Activity\": \"F05E5 - UF4\", \"Operation\": \"F05E5 - UF4\", \"MachineId\": 7, \"ConsumptionRate\": 0.0, \"Expired\": 0}, {\"Machine\": \"UF4\", \"MIN\": \"D07D2\", \"JobId\": 102, \"TaskId\": 4, \"Start\": \"2023-05-16T04:00:00\", \"End\": \"2023-05-16T12:00:00\", \"Activity\": \"D07D2 - UF4\", \"Operation\": \"D07D2 - UF4\", \"MachineId\": 7, \"ConsumptionRate\": 0.0, \"Expired\": 0}, {\"Machine\": \"UF4\", \"MIN\": \"D07D2\", \"JobId\": 102, \"TaskId\": 9, \"Start\": \"2023-05-16T22:30:00\", \"End\": \"2023-05-17T06:30:00\", \"Activity\": \"D07D2 - UF4\", \"Operation\": \"D07D2 - UF4\", \"MachineId\": 7, \"ConsumptionRate\": 0.0, \"Expired\": 0}, {\"Machine\": \"UF4\", \"MIN\": \"D07D2\", \"JobId\": 102, \"TaskId\": 14, \"Start\": \"2023-05-17T17:00:00\", \"End\": \"2023-05-18T01:00:00\", \"Activity\": \"D07D2 - UF4\", \"Operation\": \"D07D2 - UF4\", \"MachineId\": 7, \"ConsumptionRate\": 0.0, \"Expired\": 0}, {\"Machine\": \"UF4\", \"MIN\": \"W05Z5\", \"JobId\": 122, \"TaskId\": 4, \"Start\": \"2023-05-18T06:00:00\", \"End\": \"2023-05-18T18:00:00\", \"Activity\": \"W05Z5 - UF4\", \"Operation\": \"W05Z5 - UF4\", \"MachineId\": 7, \"ConsumptionRate\": 0.0, \"Expired\": 0}, {\"Machine\": \"UF4\", \"MIN\": \"W05Z5\", \"JobId\": 122, \"TaskId\": 9, \"Start\": \"2023-05-19T06:30:00\", \"End\": \"2023-05-19T18:30:00\", \"Activity\": \"W05Z5 - UF4\", \"Operation\": \"W05Z5 - UF4\", \"MachineId\": 7, \"ConsumptionRate\": 0.0, \"Expired\": 0}, {\"Machine\": \"UF4\", \"MIN\": \"F07G4\", \"JobId\": 122, \"TaskId\": 14, \"Start\": \"2023-05-20T07:00:00\", \"End\": \"2023-05-20T19:00:00\", \"Activity\": \"F07G4 - UF4\", \"Operation\": \"F07G4 - UF4\", \"MachineId\": 7, \"ConsumptionRate\": 0.0, \"Expired\": 0}, {\"Machine\": \"UF4\", \"MIN\": \"W05Z5\", \"JobId\": 132, \"TaskId\": 4, \"Start\": \"2023-05-20T20:30:00\", \"End\": \"2023-05-21T08:30:00\", \"Activity\": \"W05Z5 - UF4\", \"Operation\": \"W05Z5 - UF4\", \"MachineId\": 7, \"ConsumptionRate\": 0.0, \"Expired\": 0}, {\"Machine\": \"UF4\", \"MIN\": \"W05Z5\", \"JobId\": 132, \"TaskId\": 9, \"Start\": \"2023-05-21T21:00:00\", \"End\": \"2023-05-22T09:00:00\", \"Activity\": \"W05Z5 - UF4\", \"Operation\": \"W05Z5 - UF4\", \"MachineId\": 7, \"ConsumptionRate\": 0.0, \"Expired\": 0}, {\"Machine\": \"UF4\", \"MIN\": \"F07G4\", \"JobId\": 132, \"TaskId\": 14, \"Start\": \"2023-05-22T21:30:00\", \"End\": \"2023-05-23T09:30:00\", \"Activity\": \"F07G4 - UF4\", \"Operation\": \"F07G4 - UF4\", \"MachineId\": 7, \"ConsumptionRate\": 0.0, \"Expired\": 0}, {\"Machine\": \"UF4\", \"MIN\": \"W05Z5\", \"JobId\": 142, \"TaskId\": 4, \"Start\": \"2023-05-23T11:00:00\", \"End\": \"2023-05-23T23:00:00\", \"Activity\": \"W05Z5 - UF4\", \"Operation\": \"W05Z5 - UF4\", \"MachineId\": 7, \"ConsumptionRate\": 0.0, \"Expired\": 0}, {\"Machine\": \"UF4\", \"MIN\": \"W05Z5\", \"JobId\": 142, \"TaskId\": 9, \"Start\": \"2023-05-24T11:30:00\", \"End\": \"2023-05-24T23:30:00\", \"Activity\": \"W05Z5 - UF4\", \"Operation\": \"W05Z5 - UF4\", \"MachineId\": 7, \"ConsumptionRate\": 0.0, \"Expired\": 0}, {\"Machine\": \"UF4\", \"MIN\": \"F07G4\", \"JobId\": 142, \"TaskId\": 14, \"Start\": \"2023-05-25T12:00:00\", \"End\": \"2023-05-26T00:00:00\", \"Activity\": \"F07G4 - UF4\", \"Operation\": \"F07G4 - UF4\", \"MachineId\": 7, \"ConsumptionRate\": 0.0, \"Expired\": 0}, {\"Machine\": \"UF4\", \"MIN\": \"D07D2\", \"JobId\": 112, \"TaskId\": 4, \"Start\": \"2023-05-26T00:00:00\", \"End\": \"2023-05-26T08:00:00\", \"Activity\": \"D07D2 - UF4\", \"Operation\": \"D07D2 - UF4\", \"MachineId\": 7, \"ConsumptionRate\": 0.0, \"Expired\": 0}, {\"Machine\": \"UF4\", \"MIN\": \"D07D2\", \"JobId\": 112, \"TaskId\": 9, \"Start\": \"2023-05-26T18:30:00\", \"End\": \"2023-05-27T02:30:00\", \"Activity\": \"D07D2 - UF4\", \"Operation\": \"D07D2 - UF4\", \"MachineId\": 7, \"ConsumptionRate\": 0.0, \"Expired\": 0}, {\"Machine\": \"UF4\", \"MIN\": \"D07D2\", \"JobId\": 112, \"TaskId\": 14, \"Start\": \"2023-05-27T13:00:00\", \"End\": \"2023-05-27T21:00:00\", \"Activity\": \"D07D2 - UF4\", \"Operation\": \"D07D2 - UF4\", \"MachineId\": 7, \"ConsumptionRate\": 0.0, \"Expired\": 0}, {\"Machine\": \"UF4\", \"MIN\": \"M09C2\", \"JobId\": 78, \"TaskId\": 4, \"Start\": \"2023-05-27T22:00:00\", \"End\": \"2023-05-28T03:00:00\", \"Activity\": \"M09C2 - UF4\", \"Operation\": \"M09C2 - UF4\", \"MachineId\": 7, \"ConsumptionRate\": 0.0, \"Expired\": 0}]}}, {\"mode\": \"vega-lite\"});\n",
       "</script>"
      ],
      "text/plain": [
       "alt.Chart(...)"
      ]
     },
     "execution_count": 7,
     "metadata": {},
     "output_type": "execute_result"
    }
   ],
   "source": [
    "machines_chart"
   ]
  },
  {
   "attachments": {},
   "cell_type": "markdown",
   "id": "d50e313b-6480-460c-b96a-40538499f53c",
   "metadata": {
    "nteract": {
     "transient": {
      "deleting": false
     }
    }
   },
   "source": [
    "## Previous Schedule\n",
    "\n",
    "Use initial model with no LMAS constraints to provide starting point for serious of smaller models.\n",
    "\n",
    "Smaller models will be built sequentially over time periods less than the full model time period to provide solvable constraints. \n",
    "\n",
    "Final model solution created using new maximum horizon from sequential model."
   ]
  },
  {
   "cell_type": "code",
   "execution_count": 6,
   "id": "bbe0b25a-9f1a-46cd-8ffa-c1c4832d8bd6",
   "metadata": {
    "collapsed": false,
    "jupyter": {
     "outputs_hidden": false,
     "source_hidden": false
    },
    "nteract": {
     "transient": {
      "deleting": false
     }
    }
   },
   "outputs": [
    {
     "data": {
      "text/plain": [
       "47"
      ]
     },
     "execution_count": 6,
     "metadata": {},
     "output_type": "execute_result"
    }
   ],
   "source": [
    "jobs = sol.job_schedule.loc[sol.job_schedule[\"MIN\"] != \"LMAS\"].sort_values(\"Start\")[[\"MIN\", \"JobId\"]].drop_duplicates()\n",
    "jobs.shape[0]"
   ]
  },
  {
   "cell_type": "code",
   "execution_count": 7,
   "id": "9d2d7852-55c6-445f-8c0d-10c14f95405b",
   "metadata": {},
   "outputs": [],
   "source": [
    "limits = [12, 24, 36, 48]\n",
    "prev_n = 0\n",
    "forecasts = []\n",
    "for n in limits:\n",
    "    jobs_data = jobs.iloc[prev_n:n]\n",
    "    num_batches = jobs_data[\"MIN\"].value_counts()\n",
    "    batches = pd.Series(sol.input_data.batches)\n",
    "    amounts = (num_batches * batches).dropna().astype(int).reset_index()\n",
    "    amounts[\"time\"] = 744\n",
    "    forecasts.append(amounts.to_dict(orient=\"split\")[\"data\"])\n",
    "    prev_n = n"
   ]
  },
  {
   "cell_type": "code",
   "execution_count": null,
   "id": "df8ad0f6-f551-4268-ac89-02701108744b",
   "metadata": {},
   "outputs": [
    {
     "data": {
      "text/plain": [
       "[[['A09B4', 10653, 744],\n",
       "  ['F07G4', 13832, 744],\n",
       "  ['K05B8', 47620, 744],\n",
       "  ['M07A5', 81498, 744],\n",
       "  ['M09C2', 8499, 744]],\n",
       " [['D07D2', 23208, 744],\n",
       "  ['F07G4', 41496, 744],\n",
       "  ['M07A5', 81498, 744],\n",
       "  ['M09C2', 8499, 744]],\n",
       " [['A09B4', 63918, 744], ['D07D2', 7736, 744], ['J07B1', 32475, 744]],\n",
       " [['A09B4', 31959, 744],\n",
       "  ['D07D2', 15472, 744],\n",
       "  ['M07A5', 54332, 744],\n",
       "  ['M09C2', 33996, 744]]]"
      ]
     },
     "execution_count": 8,
     "metadata": {},
     "output_type": "execute_result"
    }
   ],
   "source": [
    "forecasts"
   ]
  },
  {
   "cell_type": "code",
   "execution_count": null,
   "id": "e1707b31-964c-4b86-877d-20bb551ff9bc",
   "metadata": {
    "tags": []
   },
   "outputs": [
    {
     "name": "stderr",
     "output_type": "stream",
     "text": [
      "0it [04:59, ?it/s]\n"
     ]
    },
    {
     "ename": "AttributeError",
     "evalue": "'ScheduleSolution' object has no attribute '_job_schedule'",
     "output_type": "error",
     "traceback": [
      "\u001b[0;31m---------------------------------------------------------------------------\u001b[0m",
      "\u001b[0;31mAttributeError\u001b[0m                            Traceback (most recent call last)",
      "Cell \u001b[0;32mIn[9], line 15\u001b[0m\n\u001b[1;32m     13\u001b[0m solutions\u001b[38;5;241m.\u001b[39mappend(solb)\n\u001b[1;32m     14\u001b[0m prev_sol \u001b[38;5;241m=\u001b[39m solb\n\u001b[0;32m---> 15\u001b[0m jobs_chart \u001b[38;5;241m=\u001b[39m \u001b[43msolb\u001b[49m\u001b[38;5;241;43m.\u001b[39;49m\u001b[43mvisualize_jobs\u001b[49m\u001b[43m(\u001b[49m\u001b[43m)\u001b[49m\n\u001b[1;32m     16\u001b[0m machines_chart \u001b[38;5;241m=\u001b[39m solb\u001b[38;5;241m.\u001b[39mvisualize_machines()\n\u001b[1;32m     17\u001b[0m jobs_chart\u001b[38;5;241m.\u001b[39mdisplay()\n",
      "File \u001b[0;32m/mnt/batch/tasks/shared/LS_root/mounts/clusters/gscamlcomp031/code/Users/aditya.hg/Product%20wheel%20optimization/EcoLabOptimization/ECL_EDSP_ScheduleOptimization/scheduleopt/scheduleopt/schedule_solution.py:399\u001b[0m, in \u001b[0;36mScheduleSolution.visualize_jobs\u001b[0;34m(self, start_time)\u001b[0m\n\u001b[1;32m    398\u001b[0m \u001b[38;5;28;01mdef\u001b[39;00m \u001b[38;5;21mvisualize_jobs\u001b[39m(\u001b[38;5;28mself\u001b[39m, start_time: datetime \u001b[38;5;241m=\u001b[39m \u001b[38;5;28;01mNone\u001b[39;00m):\n\u001b[0;32m--> 399\u001b[0m     \u001b[38;5;28;01mreturn\u001b[39;00m \u001b[38;5;28;43mself\u001b[39;49m\u001b[38;5;241;43m.\u001b[39;49m\u001b[43m_visualize\u001b[49m\u001b[43m(\u001b[49m\u001b[38;5;124;43m\"\u001b[39;49m\u001b[38;5;124;43mjobs\u001b[39;49m\u001b[38;5;124;43m\"\u001b[39;49m\u001b[43m,\u001b[49m\u001b[43m \u001b[49m\u001b[43mstart_time\u001b[49m\u001b[43m)\u001b[49m\n",
      "File \u001b[0;32m/mnt/batch/tasks/shared/LS_root/mounts/clusters/gscamlcomp031/code/Users/aditya.hg/Product%20wheel%20optimization/EcoLabOptimization/ECL_EDSP_ScheduleOptimization/scheduleopt/scheduleopt/schedule_solution.py:405\u001b[0m, in \u001b[0;36mScheduleSolution._visualize\u001b[0;34m(self, plot_type, start_time)\u001b[0m\n\u001b[1;32m    404\u001b[0m \u001b[38;5;28;01mdef\u001b[39;00m \u001b[38;5;21m_visualize\u001b[39m(\u001b[38;5;28mself\u001b[39m, plot_type, start_time: datetime \u001b[38;5;241m=\u001b[39m \u001b[38;5;28;01mNone\u001b[39;00m):\n\u001b[0;32m--> 405\u001b[0m     data \u001b[38;5;241m=\u001b[39m \u001b[38;5;28;43mself\u001b[39;49m\u001b[38;5;241;43m.\u001b[39;49m\u001b[43mjob_schedule\u001b[49m\u001b[38;5;241m.\u001b[39mcopy()\n\u001b[1;32m    407\u001b[0m     \u001b[38;5;28;01mif\u001b[39;00m start_time \u001b[38;5;129;01mis\u001b[39;00m \u001b[38;5;28;01mNone\u001b[39;00m:\n\u001b[1;32m    408\u001b[0m         today \u001b[38;5;241m=\u001b[39m datetime\u001b[38;5;241m.\u001b[39mnow()\n",
      "File \u001b[0;32m/mnt/batch/tasks/shared/LS_root/mounts/clusters/gscamlcomp031/code/Users/aditya.hg/Product%20wheel%20optimization/EcoLabOptimization/ECL_EDSP_ScheduleOptimization/scheduleopt/scheduleopt/schedule_solution.py:230\u001b[0m, in \u001b[0;36mScheduleSolution.job_schedule\u001b[0;34m(self)\u001b[0m\n\u001b[1;32m    228\u001b[0m \u001b[38;5;129m@property\u001b[39m\n\u001b[1;32m    229\u001b[0m \u001b[38;5;28;01mdef\u001b[39;00m \u001b[38;5;21mjob_schedule\u001b[39m(\u001b[38;5;28mself\u001b[39m):\n\u001b[0;32m--> 230\u001b[0m     schedule \u001b[38;5;241m=\u001b[39m \u001b[38;5;28;43mself\u001b[39;49m\u001b[38;5;241;43m.\u001b[39;49m\u001b[43m_job_schedule\u001b[49m\u001b[38;5;241m.\u001b[39mcopy()\n\u001b[1;32m    231\u001b[0m     schedule[\u001b[38;5;124m\"\u001b[39m\u001b[38;5;124mStart\u001b[39m\u001b[38;5;124m\"\u001b[39m] \u001b[38;5;241m/\u001b[39m\u001b[38;5;241m=\u001b[39m \u001b[38;5;28mself\u001b[39m\u001b[38;5;241m.\u001b[39m_time_scale_factor\n\u001b[1;32m    232\u001b[0m     schedule[\u001b[38;5;124m\"\u001b[39m\u001b[38;5;124mEnd\u001b[39m\u001b[38;5;124m\"\u001b[39m] \u001b[38;5;241m/\u001b[39m\u001b[38;5;241m=\u001b[39m \u001b[38;5;28mself\u001b[39m\u001b[38;5;241m.\u001b[39m_time_scale_factor\n",
      "\u001b[0;31mAttributeError\u001b[0m: 'ScheduleSolution' object has no attribute '_job_schedule'"
     ]
    }
   ],
   "source": [
    "solutions = []\n",
    "max_times = [1500, 1500, 3000, 3000]\n",
    "prev_sol = None\n",
    "for max_time, forecast in tqdm(zip(max_times, forecasts)):\n",
    "    inputs[\"forecast\"] = forecast\n",
    "    # %%\n",
    "    if prev_sol is None:\n",
    "        part_model = ScheduleModel(inputs, time_scale_factor=4)\n",
    "    else:\n",
    "        part_model = ScheduleModel(inputs, time_scale_factor=4, previous_schedule=prev_sol.job_schedule)\n",
    "    # sol = model.solve_minimize_delivery_miss(max_time_in_seconds=None, verbose=True)\n",
    "    solb = part_model.solve_least_time_schedule(max_time_in_seconds=max_time, number_of_search_workers=None, verbose=False, enforce_consumption_constraint=True)\n",
    "    solutions.append(solb)\n",
    "    prev_sol = solb\n",
    "    jobs_chart = solb.visualize_jobs()\n",
    "    machines_chart = solb.visualize_machines()\n",
    "    jobs_chart.display()\n",
    "    machines_chart.display()"
   ]
  },
  {
   "cell_type": "code",
   "execution_count": null,
   "id": "4d648340",
   "metadata": {},
   "outputs": [],
   "source": [
    "prev_sol.solver.StatusName()"
   ]
  },
  {
   "cell_type": "code",
   "execution_count": null,
   "id": "6a884c57",
   "metadata": {},
   "outputs": [],
   "source": [
    "solutions[-2].job_schedule.to_csv(\"sol1_schedule.csv\", index=False)"
   ]
  },
  {
   "cell_type": "code",
   "execution_count": null,
   "id": "c40c68e2-e779-405c-9857-0b34f5c2a0ef",
   "metadata": {
    "tags": []
   },
   "outputs": [],
   "source": [
    "prev_sol=solutions[0]\n",
    "part_model = ScheduleModel(inputs, time_scale_factor=4, previous_schedule=prev_sol.job_schedule)\n",
    "# sol = model.solve_minimize_delivery_miss(max_time_in_seconds=None, verbose=True)\n",
    "solb = part_model.solve_least_time_schedule(max_time_in_seconds=2500, number_of_search_workers=None, verbose=True, enforce_consumption_constraint=True)"
   ]
  },
  {
   "cell_type": "code",
   "execution_count": null,
   "id": "b3b5334d-949f-4185-b172-985e0a229f78",
   "metadata": {},
   "outputs": [],
   "source": [
    "len(solutions)"
   ]
  },
  {
   "cell_type": "code",
   "execution_count": null,
   "id": "c21f604f-21aa-4b8b-818d-718c4408d2a6",
   "metadata": {},
   "outputs": [],
   "source": [
    "solb = part_model.solve_least_time_schedule(max_time_in_seconds=1500, number_of_search_workers=None, verbose=False, enforce_consumption_constraint=True)"
   ]
  },
  {
   "cell_type": "code",
   "execution_count": null,
   "id": "03f99b9a-30c4-4171-b2c7-667e710ccfde",
   "metadata": {},
   "outputs": [],
   "source": [
    "solutions[-1].job_schedule.to_csv(\"final_schedule.csv\"),index=False)"
   ]
  },
  {
   "cell_type": "code",
   "execution_count": null,
   "id": "14cc9ce8-4ea9-444e-b8e7-c9dd0527defb",
   "metadata": {},
   "outputs": [],
   "source": []
  }
 ],
 "metadata": {
  "kernelspec": {
   "display_name": "Python 3.10 - SDK v2",
   "language": "python",
   "name": "python310-sdkv2"
  },
  "language_info": {
   "codemirror_mode": {
    "name": "ipython",
    "version": 3
   },
   "file_extension": ".py",
   "mimetype": "text/x-python",
   "name": "python",
   "nbconvert_exporter": "python",
   "pygments_lexer": "ipython3",
   "version": "3.10.10"
  },
  "microsoft": {
   "ms_spell_check": {
    "ms_spell_check_language": "en"
   }
  },
  "nteract": {
   "version": "nteract-front-end@1.0.0"
  }
 },
 "nbformat": 4,
 "nbformat_minor": 5
}
