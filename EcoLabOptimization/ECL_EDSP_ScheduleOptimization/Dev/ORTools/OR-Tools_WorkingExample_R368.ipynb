{
 "cells": [
  {
   "cell_type": "markdown",
   "id": "bf0ee513-e840-4147-afa0-3cad5ef9c042",
   "metadata": {},
   "source": [
    "### Upgrade/install necessary packages"
   ]
  },
  {
   "cell_type": "code",
   "execution_count": 101,
   "id": "8d8befdb-9bef-478a-bd5a-eeb04eef67e3",
   "metadata": {},
   "outputs": [
    {
     "name": "stdout",
     "output_type": "stream",
     "text": [
      "Requirement already up-to-date: ortools in /home/azureuser/.local/lib/python3.8/site-packages (9.4.1874)\n",
      "Requirement already satisfied, skipping upgrade: absl-py>=0.13 in /anaconda/envs/azureml_py38/lib/python3.8/site-packages (from ortools) (0.15.0)\n",
      "Requirement already satisfied, skipping upgrade: numpy>=1.13.3 in /anaconda/envs/azureml_py38/lib/python3.8/site-packages (from ortools) (1.21.6)\n",
      "Requirement already satisfied, skipping upgrade: protobuf>=3.19.4 in /anaconda/envs/azureml_py38/lib/python3.8/site-packages (from ortools) (3.20.1)\n",
      "Requirement already satisfied, skipping upgrade: six in /anaconda/envs/azureml_py38/lib/python3.8/site-packages (from absl-py>=0.13->ortools) (1.16.0)\n",
      "Collecting altair\n",
      "  Downloading altair-4.2.0-py3-none-any.whl (812 kB)\n",
      "\u001b[K     |████████████████████████████████| 812 kB 7.6 MB/s eta 0:00:01\n",
      "\u001b[?25hRequirement already satisfied: pandas>=0.18 in /anaconda/envs/azureml_py38/lib/python3.8/site-packages (from altair) (1.5.0)\n",
      "Requirement already satisfied: numpy in /anaconda/envs/azureml_py38/lib/python3.8/site-packages (from altair) (1.21.6)\n",
      "Requirement already satisfied: entrypoints in /anaconda/envs/azureml_py38/lib/python3.8/site-packages (from altair) (0.4)\n",
      "Requirement already satisfied: toolz in /anaconda/envs/azureml_py38/lib/python3.8/site-packages (from altair) (0.12.0)\n",
      "Requirement already satisfied: jsonschema>=3.0 in /anaconda/envs/azureml_py38/lib/python3.8/site-packages (from altair) (4.9.1)\n",
      "Requirement already satisfied: jinja2 in /anaconda/envs/azureml_py38/lib/python3.8/site-packages (from altair) (2.11.2)\n",
      "Requirement already satisfied: python-dateutil>=2.8.1 in /anaconda/envs/azureml_py38/lib/python3.8/site-packages (from pandas>=0.18->altair) (2.8.2)\n",
      "Requirement already satisfied: pytz>=2020.1 in /anaconda/envs/azureml_py38/lib/python3.8/site-packages (from pandas>=0.18->altair) (2022.2.1)\n",
      "Requirement already satisfied: importlib-resources>=1.4.0; python_version < \"3.9\" in /anaconda/envs/azureml_py38/lib/python3.8/site-packages (from jsonschema>=3.0->altair) (5.9.0)\n",
      "Requirement already satisfied: pyrsistent!=0.17.0,!=0.17.1,!=0.17.2,>=0.14.0 in /anaconda/envs/azureml_py38/lib/python3.8/site-packages (from jsonschema>=3.0->altair) (0.18.1)\n",
      "Requirement already satisfied: pkgutil-resolve-name>=1.3.10; python_version < \"3.9\" in /anaconda/envs/azureml_py38/lib/python3.8/site-packages (from jsonschema>=3.0->altair) (1.3.10)\n",
      "Requirement already satisfied: attrs>=17.4.0 in /anaconda/envs/azureml_py38/lib/python3.8/site-packages (from jsonschema>=3.0->altair) (22.1.0)\n",
      "Requirement already satisfied: MarkupSafe>=0.23 in /anaconda/envs/azureml_py38/lib/python3.8/site-packages (from jinja2->altair) (2.0.1)\n",
      "Requirement already satisfied: six>=1.5 in /anaconda/envs/azureml_py38/lib/python3.8/site-packages (from python-dateutil>=2.8.1->pandas>=0.18->altair) (1.16.0)\n",
      "Requirement already satisfied: zipp>=3.1.0; python_version < \"3.10\" in /anaconda/envs/azureml_py38/lib/python3.8/site-packages (from importlib-resources>=1.4.0; python_version < \"3.9\"->jsonschema>=3.0->altair) (3.8.1)\n",
      "Installing collected packages: altair\n",
      "Successfully installed altair-4.2.0\n"
     ]
    }
   ],
   "source": [
    "!pip install --upgrade --user ortools\n",
    "!pip install altair"
   ]
  },
  {
   "cell_type": "markdown",
   "id": "ff179eba-4d21-4b33-9635-814617653002",
   "metadata": {},
   "source": [
    "### Adapted Job Shop example from OR-Tools"
   ]
  },
  {
   "cell_type": "code",
   "execution_count": 1,
   "id": "fc764c8f-1efd-4cac-89fc-80d497930705",
   "metadata": {},
   "outputs": [],
   "source": [
    "\"\"\"Minimal jobshop example.\"\"\"\n",
    "import collections\n",
    "from ortools.sat.python import cp_model\n",
    "\n",
    "\n",
    "def generate_schedule(jobs_data):\n",
    "    \"\"\"Minimal jobshop problem.\"\"\"\n",
    "\n",
    "    machines_count = 1 + max(task[0] for job in jobs_data for task in job)\n",
    "    all_machines = range(machines_count)\n",
    "    # Computes horizon dynamically as the sum of all durations.\n",
    "    horizon = sum(task[1] for job in jobs_data for task in job)\n",
    "\n",
    "    # Create the model.\n",
    "    model = cp_model.CpModel()\n",
    "\n",
    "    # Named tuple to store information about created variables.\n",
    "    task_type = collections.namedtuple('task_type', 'start end interval min_id')\n",
    "    # Named tuple to manipulate solution information.\n",
    "    assigned_task_type = collections.namedtuple('assigned_task_type',\n",
    "                                                'start job index duration min_id')\n",
    "\n",
    "    # Creates job intervals and add to the corresponding machine lists.\n",
    "    all_tasks = {}\n",
    "    machine_to_intervals = collections.defaultdict(list)\n",
    "\n",
    "    for job_id, job in enumerate(jobs_data):\n",
    "        for task_id, task in enumerate(job):\n",
    "            machine = task[0]\n",
    "            duration = task[1]\n",
    "            min_id = task[2]\n",
    "            suffix = '_%i_%i' % (job_id, task_id)\n",
    "            start_var = model.NewIntVar(0, horizon, 'start' + suffix)\n",
    "            end_var = model.NewIntVar(0, horizon, 'end' + suffix)\n",
    "            interval_var = model.NewIntervalVar(start_var, duration, end_var,\n",
    "                                                'interval' + suffix)\n",
    "            all_tasks[job_id, task_id] = task_type(start=start_var,\n",
    "                                                   end=end_var,\n",
    "                                                   interval=interval_var, min_id=min_id)\n",
    "            machine_to_intervals[machine].append(interval_var)\n",
    "\n",
    "    # Create and add disjunctive constraints.\n",
    "    for machine in all_machines:\n",
    "        model.AddNoOverlap(machine_to_intervals[machine])\n",
    "\n",
    "    # Precedences inside a job.\n",
    "    for job_id, job in enumerate(jobs_data):\n",
    "        for task_id in range(len(job) - 1):\n",
    "            \n",
    "            # Adaptation to allow offsets in start of UF during execution of R368 \n",
    "            end_offset = int(all_tasks[job_id, task_id].interval.SizeExpr() * .333)\n",
    "            model.Add(all_tasks[job_id, task_id +\n",
    "                                1].start >= all_tasks[job_id, task_id].end - end_offset)\n",
    "            \n",
    "\n",
    "    # Makespan objective.\n",
    "    obj_var = model.NewIntVar(0, horizon, 'makespan')\n",
    "    model.AddMaxEquality(obj_var, [\n",
    "        all_tasks[job_id, len(job) - 1].end\n",
    "        for job_id, job in enumerate(jobs_data)\n",
    "    ])\n",
    "    model.Minimize(obj_var)\n",
    "\n",
    "    # Creates the solver and solve.\n",
    "    solver = cp_model.CpSolver()\n",
    "    status = solver.Solve(model)\n",
    "\n",
    "    if status == cp_model.OPTIMAL or status == cp_model.FEASIBLE:\n",
    "        print('Solution:')\n",
    "        # Create one list of assigned tasks per machine.\n",
    "        assigned_jobs = collections.defaultdict(list)\n",
    "        for job_id, job in enumerate(jobs_data):\n",
    "            for task_id, task in enumerate(job):\n",
    "                machine = task[0]\n",
    "                min_id = task[2]\n",
    "                assigned_jobs[machine].append(\n",
    "                    assigned_task_type(start=solver.Value(\n",
    "                        all_tasks[job_id, task_id].start),\n",
    "                                       job=job_id,\n",
    "                                       index=task_id,\n",
    "                                       duration=task[1], min_id=min_id))\n",
    "\n",
    "        # Create per machine output lines.\n",
    "        output = ''\n",
    "        return_dict = {}\n",
    "        for machine in all_machines:\n",
    "            machine_name = ''\n",
    "            if machine==0:\n",
    "                machine_name = 'Reactor 368'\n",
    "            if machine==1:\n",
    "                machine_name = 'UF'\n",
    "            # Sort by starting time.\n",
    "            assigned_jobs[machine].sort()\n",
    "            sol_line_tasks = 'Machine ' + str(machine) + ': '\n",
    "            sol_line = '           '\n",
    "\n",
    "            for assigned_task in assigned_jobs[machine]:\n",
    "                if assigned_task.min_id not in return_dict.keys():\n",
    "                    return_dict[assigned_task.min_id] = {}\n",
    "                if machine_name not in return_dict[assigned_task.min_id].keys():\n",
    "                    return_dict[assigned_task.min_id][machine_name] = {}\n",
    "                    \n",
    "                return_dict[assigned_task.min_id][machine_name][assigned_task.job] = [assigned_task.start, assigned_task.start + assigned_task.duration]\n",
    "                name = assigned_task.min_id + '_'\n",
    "                name +=  '%i_%i' % (assigned_task.job,\n",
    "                                           assigned_task.index)\n",
    "                # Add spaces to output to align columns.\n",
    "                sol_line_tasks += '%-15s' % name\n",
    "\n",
    "                start = assigned_task.start\n",
    "                duration = assigned_task.duration\n",
    "                sol_tmp = '[%i,%i]' % (start, start + duration)\n",
    "                # Add spaces to output to align columns.\n",
    "                sol_line += '%-15s' % sol_tmp\n",
    "\n",
    "            sol_line += '\\n'\n",
    "            sol_line_tasks += '\\n'\n",
    "            output += sol_line_tasks\n",
    "            output += sol_line\n",
    "\n",
    "        # Finally print the solution found.\n",
    "        print(f'Optimal Schedule Length: {solver.ObjectiveValue()}')\n",
    "        print(output)\n",
    "    else:\n",
    "        print('No solution found.')\n",
    "\n",
    "    # Statistics.\n",
    "    print('\\nStatistics')\n",
    "    print('  - conflicts: %i' % solver.NumConflicts())\n",
    "    print('  - branches : %i' % solver.NumBranches())\n",
    "    print('  - wall time: %f s' % solver.WallTime())\n",
    "    \n",
    "    return return_dict\n"
   ]
  },
  {
   "cell_type": "code",
   "execution_count": 2,
   "id": "9cdd3d6a-c3b3-4ac7-86cc-f9028165e189",
   "metadata": {},
   "outputs": [
    {
     "name": "stdout",
     "output_type": "stream",
     "text": [
      "Solution:\n",
      "Optimal Schedule Length: 473.0\n",
      "Machine 0: BO5Y5_11_0     BO5Y5_12_0     BO5Y5_13_0     MO7A5_0_0      MO7A5_1_0      MO7A5_2_0      MO7A5_3_0      MO7A5_4_0      MO7A5_5_0      MO7A5_6_0      MO7A5_7_0      MO7A5_8_0      MO7A5_9_0      MO7A5_10_0     \n",
      "           [0,10]         [10,20]        [20,30]        [30,70]        [70,110]       [110,150]      [150,190]      [190,230]      [230,270]      [270,310]      [310,350]      [350,390]      [390,430]      [430,470]      \n",
      "Machine 1: BO5Y5_11_1     BO5Y5_12_1     BO5Y5_13_1     MO7A5_0_1      MO7A5_1_1      MO7A5_2_1      MO7A5_3_1      MO7A5_4_1      MO7A5_5_1      MO7A5_6_1      MO7A5_7_1      MO7A5_8_1      MO7A5_9_1      MO7A5_10_1     \n",
      "           [7,15]         [17,25]        [27,35]        [57,73]        [97,113]       [137,153]      [177,193]      [217,233]      [257,273]      [297,313]      [337,353]      [377,393]      [417,433]      [457,473]      \n",
      "\n",
      "\n",
      "Statistics\n",
      "  - conflicts: 0\n",
      "  - branches : 0\n",
      "  - wall time: 0.010844 s\n"
     ]
    },
    {
     "data": {
      "text/plain": [
       "{'BO5Y5': {'Reactor 368': {11: [0, 10], 12: [10, 20], 13: [20, 30]},\n",
       "  'UF': {11: [7, 15], 12: [17, 25], 13: [27, 35]}},\n",
       " 'MO7A5': {'Reactor 368': {0: [30, 70],\n",
       "   1: [70, 110],\n",
       "   2: [110, 150],\n",
       "   3: [150, 190],\n",
       "   4: [190, 230],\n",
       "   5: [230, 270],\n",
       "   6: [270, 310],\n",
       "   7: [310, 350],\n",
       "   8: [350, 390],\n",
       "   9: [390, 430],\n",
       "   10: [430, 470]},\n",
       "  'UF': {0: [57, 73],\n",
       "   1: [97, 113],\n",
       "   2: [137, 153],\n",
       "   3: [177, 193],\n",
       "   4: [217, 233],\n",
       "   5: [257, 273],\n",
       "   6: [297, 313],\n",
       "   7: [337, 353],\n",
       "   8: [377, 393],\n",
       "   9: [417, 433],\n",
       "   10: [457, 473]}}}"
      ]
     },
     "execution_count": 2,
     "metadata": {},
     "output_type": "execute_result"
    }
   ],
   "source": [
    "mo7a5_reqd_batches = 11\n",
    "bo5y5_reqd_batches = 3\n",
    "\n",
    "mo7a5_def = [(0, 40, 'MO7A5'), (1, 16, 'MO7A5')]\n",
    "b05y5_def = [(0, 10, 'BO5Y5'), (1, 8, 'BO5Y5')]\n",
    "jobs_data = []\n",
    "\n",
    "for i in range(mo7a5_reqd_batches):\n",
    "    jobs_data.append(mo7a5_def)\n",
    "for i in range (bo5y5_reqd_batches):\n",
    "    jobs_data.append(b05y5_def)\n",
    "\n",
    "out = generate_schedule(jobs_data)\n",
    "\n",
    "out"
   ]
  },
  {
   "cell_type": "code",
   "execution_count": 3,
   "id": "d4b33d26-d805-4e96-a65c-f6a1247d4fb1",
   "metadata": {},
   "outputs": [
    {
     "data": {
      "application/vnd.vegalite.v4+json": {
       "$schema": "https://vega.github.io/schema/vega-lite/v4.17.0.json",
       "config": {
        "view": {
         "continuousHeight": 300,
         "continuousWidth": 400
        }
       },
       "data": {
        "name": "data-d2290058e101a531d8439a31fb2dbdf0"
       },
       "datasets": {
        "data-d2290058e101a531d8439a31fb2dbdf0": [
         {
          "End Time": "2022-11-01T09:45:00",
          "Processing Activity": "BO5Y5 - Reactor 368",
          "Start Time": "2022-11-01T00:00:00"
         },
         {
          "End Time": "2022-11-01T19:45:00",
          "Processing Activity": "BO5Y5 - Reactor 368",
          "Start Time": "2022-11-01T10:00:00"
         },
         {
          "End Time": "2022-11-02T05:45:00",
          "Processing Activity": "BO5Y5 - Reactor 368",
          "Start Time": "2022-11-01T20:00:00"
         },
         {
          "End Time": "2022-11-01T14:45:00",
          "Processing Activity": "BO5Y5 - UF",
          "Start Time": "2022-11-01T07:00:00"
         },
         {
          "End Time": "2022-11-02T00:45:00",
          "Processing Activity": "BO5Y5 - UF",
          "Start Time": "2022-11-01T17:00:00"
         },
         {
          "End Time": "2022-11-02T10:45:00",
          "Processing Activity": "BO5Y5 - UF",
          "Start Time": "2022-11-02T03:00:00"
         },
         {
          "End Time": "2022-11-03T21:45:00",
          "Processing Activity": "MO7A5 - Reactor 368",
          "Start Time": "2022-11-02T06:00:00"
         },
         {
          "End Time": "2022-11-05T13:45:00",
          "Processing Activity": "MO7A5 - Reactor 368",
          "Start Time": "2022-11-03T22:00:00"
         },
         {
          "End Time": "2022-11-07T05:45:00",
          "Processing Activity": "MO7A5 - Reactor 368",
          "Start Time": "2022-11-05T14:00:00"
         },
         {
          "End Time": "2022-11-08T21:45:00",
          "Processing Activity": "MO7A5 - Reactor 368",
          "Start Time": "2022-11-07T06:00:00"
         },
         {
          "End Time": "2022-11-10T13:45:00",
          "Processing Activity": "MO7A5 - Reactor 368",
          "Start Time": "2022-11-08T22:00:00"
         },
         {
          "End Time": "2022-11-12T05:45:00",
          "Processing Activity": "MO7A5 - Reactor 368",
          "Start Time": "2022-11-10T14:00:00"
         },
         {
          "End Time": "2022-11-13T21:45:00",
          "Processing Activity": "MO7A5 - Reactor 368",
          "Start Time": "2022-11-12T06:00:00"
         },
         {
          "End Time": "2022-11-15T13:45:00",
          "Processing Activity": "MO7A5 - Reactor 368",
          "Start Time": "2022-11-13T22:00:00"
         },
         {
          "End Time": "2022-11-17T05:45:00",
          "Processing Activity": "MO7A5 - Reactor 368",
          "Start Time": "2022-11-15T14:00:00"
         },
         {
          "End Time": "2022-11-18T21:45:00",
          "Processing Activity": "MO7A5 - Reactor 368",
          "Start Time": "2022-11-17T06:00:00"
         },
         {
          "End Time": "2022-11-20T13:45:00",
          "Processing Activity": "MO7A5 - Reactor 368",
          "Start Time": "2022-11-18T22:00:00"
         },
         {
          "End Time": "2022-11-04T00:45:00",
          "Processing Activity": "MO7A5 - UF",
          "Start Time": "2022-11-03T09:00:00"
         },
         {
          "End Time": "2022-11-05T16:45:00",
          "Processing Activity": "MO7A5 - UF",
          "Start Time": "2022-11-05T01:00:00"
         },
         {
          "End Time": "2022-11-07T08:45:00",
          "Processing Activity": "MO7A5 - UF",
          "Start Time": "2022-11-06T17:00:00"
         },
         {
          "End Time": "2022-11-09T00:45:00",
          "Processing Activity": "MO7A5 - UF",
          "Start Time": "2022-11-08T09:00:00"
         },
         {
          "End Time": "2022-11-10T16:45:00",
          "Processing Activity": "MO7A5 - UF",
          "Start Time": "2022-11-10T01:00:00"
         },
         {
          "End Time": "2022-11-12T08:45:00",
          "Processing Activity": "MO7A5 - UF",
          "Start Time": "2022-11-11T17:00:00"
         },
         {
          "End Time": "2022-11-14T00:45:00",
          "Processing Activity": "MO7A5 - UF",
          "Start Time": "2022-11-13T09:00:00"
         },
         {
          "End Time": "2022-11-15T16:45:00",
          "Processing Activity": "MO7A5 - UF",
          "Start Time": "2022-11-15T01:00:00"
         },
         {
          "End Time": "2022-11-17T08:45:00",
          "Processing Activity": "MO7A5 - UF",
          "Start Time": "2022-11-16T17:00:00"
         },
         {
          "End Time": "2022-11-19T00:45:00",
          "Processing Activity": "MO7A5 - UF",
          "Start Time": "2022-11-18T09:00:00"
         },
         {
          "End Time": "2022-11-20T16:45:00",
          "Processing Activity": "MO7A5 - UF",
          "Start Time": "2022-11-20T01:00:00"
         }
        ]
       },
       "encoding": {
        "color": {
         "field": "Processing Activity",
         "scale": {
          "scheme": "dark2"
         },
         "type": "nominal"
        },
        "x": {
         "field": "Start Time",
         "type": "temporal"
        },
        "x2": {
         "field": "End Time"
        },
        "y": {
         "field": "Processing Activity",
         "type": "nominal"
        }
       },
       "height": 300,
       "mark": "bar",
       "width": 800
      },
      "text/plain": [
       "<VegaLite 4 object>\n",
       "\n",
       "If you see this message, it means the renderer has not been properly enabled\n",
       "for the frontend that you are using. For more information, see\n",
       "https://altair-viz.github.io/user_guide/troubleshooting.html\n"
      ]
     },
     "execution_count": 3,
     "metadata": {},
     "output_type": "execute_result"
    }
   ],
   "source": [
    "from datetime import datetime, timedelta\n",
    "start_time = datetime(2022, 11, 1)\n",
    "\n",
    "import altair as alt\n",
    "import datetime as dt\n",
    "import pandas as pd\n",
    "\n",
    "\n",
    "alt.renderers.enable('jupyterlab')\n",
    "\n",
    "data = pd.DataFrame()\n",
    "from_data = []\n",
    "to_data = []\n",
    "activity_data = []\n",
    "\n",
    "\n",
    "for min_id, mach_vals in out.items():\n",
    "    for mach_id, job_vals in mach_vals.items():\n",
    "        for job_id, job_interval in job_vals.items():\n",
    "            activity = f'{min_id} - {mach_id}'\n",
    "            begin = start_time + timedelta(hours = job_interval[0])\n",
    "            end = start_time + timedelta(hours = job_interval[1]-.25)\n",
    "            from_data.append((begin))\n",
    "            to_data.append((end))\n",
    "            activity_data.append(activity)\n",
    "            \n",
    "data['Start Time'] = from_data\n",
    "data['End Time'] = to_data\n",
    "data['Processing Activity'] = activity_data\n",
    "\n",
    "\n",
    "alt.Chart(data).mark_bar().encode(\n",
    "    x='Start Time',\n",
    "    x2='End Time',\n",
    "    y='Processing Activity',\n",
    "    color=alt.Color('Processing Activity', scale=alt.Scale(scheme='dark2'))\n",
    ").properties(\n",
    "    width=800,\n",
    "    height=300\n",
    ")"
   ]
  },
  {
   "cell_type": "code",
   "execution_count": null,
   "id": "a716069b",
   "metadata": {},
   "outputs": [],
   "source": []
  }
 ],
 "metadata": {
  "kernelspec": {
   "display_name": "Python 3.10.5 64-bit ('3.10.5')",
   "language": "python",
   "name": "python3"
  },
  "language_info": {
   "codemirror_mode": {
    "name": "ipython",
    "version": 3
   },
   "file_extension": ".py",
   "mimetype": "text/x-python",
   "name": "python",
   "nbconvert_exporter": "python",
   "pygments_lexer": "ipython3",
   "version": "3.10.5"
  },
  "vscode": {
   "interpreter": {
    "hash": "b0281636b724690589c9d718b56a8a5a3a96c4bb25801fb3d2aa9737e520750c"
   }
  }
 },
 "nbformat": 4,
 "nbformat_minor": 5
}
